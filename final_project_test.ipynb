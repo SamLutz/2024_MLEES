{
  "nbformat": 4,
  "nbformat_minor": 0,
  "metadata": {
    "colab": {
      "provenance": [],
      "authorship_tag": "ABX9TyMevDVeBTKhgxDm2Gf7f46p",
      "include_colab_link": true
    },
    "kernelspec": {
      "name": "python3",
      "display_name": "Python 3"
    },
    "language_info": {
      "name": "python"
    }
  },
  "cells": [
    {
      "cell_type": "markdown",
      "metadata": {
        "id": "view-in-github",
        "colab_type": "text"
      },
      "source": [
        "<a href=\"https://colab.research.google.com/github/SamLutz/2024_MLEES/blob/main/final_project_test.ipynb\" target=\"_parent\"><img src=\"https://colab.research.google.com/assets/colab-badge.svg\" alt=\"Open In Colab\"/></a>"
      ]
    },
    {
      "cell_type": "markdown",
      "source": [
        "Final Project MLEES SA24\n"
      ],
      "metadata": {
        "id": "2XxCRrYUaj-t"
      }
    },
    {
      "cell_type": "code",
      "source": [
        "!pip install netCDF4\n",
        "!pip install xarray\n",
        "import os\n",
        "import numpy as np\n",
        "import xarray as xr\n",
        "from netCDF4 import Dataset\n",
        "from datetime import datetime\n",
        "import pooch\n",
        "import netCDF4 as nc\n",
        "import matplotlib.pyplot as plt"
      ],
      "metadata": {
        "id": "ERnqwLgpQQwH",
        "outputId": "cc24fb1f-e22a-44ae-b8a0-122d60f7a8c5",
        "colab": {
          "base_uri": "https://localhost:8080/"
        },
        "collapsed": true
      },
      "execution_count": null,
      "outputs": [
        {
          "output_type": "stream",
          "name": "stdout",
          "text": [
            "Requirement already satisfied: netCDF4 in /usr/local/lib/python3.10/dist-packages (1.7.2)\n",
            "Requirement already satisfied: cftime in /usr/local/lib/python3.10/dist-packages (from netCDF4) (1.6.4.post1)\n",
            "Requirement already satisfied: certifi in /usr/local/lib/python3.10/dist-packages (from netCDF4) (2024.8.30)\n",
            "Requirement already satisfied: numpy in /usr/local/lib/python3.10/dist-packages (from netCDF4) (1.26.4)\n",
            "Requirement already satisfied: xarray in /usr/local/lib/python3.10/dist-packages (2024.10.0)\n",
            "Requirement already satisfied: numpy>=1.24 in /usr/local/lib/python3.10/dist-packages (from xarray) (1.26.4)\n",
            "Requirement already satisfied: packaging>=23.1 in /usr/local/lib/python3.10/dist-packages (from xarray) (24.2)\n",
            "Requirement already satisfied: pandas>=2.1 in /usr/local/lib/python3.10/dist-packages (from xarray) (2.2.2)\n",
            "Requirement already satisfied: python-dateutil>=2.8.2 in /usr/local/lib/python3.10/dist-packages (from pandas>=2.1->xarray) (2.8.2)\n",
            "Requirement already satisfied: pytz>=2020.1 in /usr/local/lib/python3.10/dist-packages (from pandas>=2.1->xarray) (2024.2)\n",
            "Requirement already satisfied: tzdata>=2022.7 in /usr/local/lib/python3.10/dist-packages (from pandas>=2.1->xarray) (2024.2)\n",
            "Requirement already satisfied: six>=1.5 in /usr/local/lib/python3.10/dist-packages (from python-dateutil>=2.8.2->pandas>=2.1->xarray) (1.16.0)\n"
          ]
        }
      ]
    },
    {
      "cell_type": "markdown",
      "source": [
        "Download data from Onedrive with Pooch\n"
      ],
      "metadata": {
        "id": "Ia_UhGsY43ty"
      }
    },
    {
      "cell_type": "code",
      "source": [
        "# Liste des fichiers OneDrive avec leurs URL\n",
        "files_urls = [\n",
        "    'https://unils-my.sharepoint.com/:u:/g/personal/samuel_lutz_unil_ch/Efe70_k3wXJHnrbYK9h1uBwBUgNCzc5_24r73e1xETG0ug?download=1',\n",
        "    'https://unils-my.sharepoint.com/:u:/g/personal/samuel_lutz_unil_ch/EWAfM2fXmJBEiCTivTpZlCEBa5sKr-6SGX8M27JoblF3Tg?download=1',\n",
        "    'https://unils-my.sharepoint.com/:u:/g/personal/samuel_lutz_unil_ch/ESbZRJJ1jSlCuRxFQTeXxmEBJ8yD8u42W8cjlNVbeh4CCw?download=1',\n",
        "    'https://unils-my.sharepoint.com/:u:/g/personal/samuel_lutz_unil_ch/ERypBJ2Dpi1LgIYALQoJFhoBHpjHhC5Ygk85FmJ075y7uw?download=1',\n",
        "]\n",
        "\n",
        "# Hashed values des fichiers (facultatif, utiliser None si inconnu)\n",
        "hashes = [None] * len(files_urls)  # None pour tous les fichiers si tu ne connais pas leurs empreintes"
      ],
      "metadata": {
        "id": "bCldVZht0You"
      },
      "execution_count": null,
      "outputs": []
    },
    {
      "cell_type": "code",
      "source": [
        "downloaded_files = []  # Liste pour stocker les chemins des fichiers téléchargés\n",
        "\n",
        "for url, file_hash in zip(files_urls, hashes):\n",
        "    # Télécharger chaque fichier\n",
        "    file_path = pooch.retrieve(url, known_hash=file_hash)\n",
        "    downloaded_files.append(file_path)\n",
        "\n",
        "print(\"Fichiers téléchargés :\", downloaded_files)"
      ],
      "metadata": {
        "collapsed": true,
        "id": "Gh1xui1t08OR",
        "outputId": "651d29e9-b67f-43b7-cdb7-bf1c61a7bbdc",
        "colab": {
          "base_uri": "https://localhost:8080/"
        }
      },
      "execution_count": null,
      "outputs": [
        {
          "output_type": "stream",
          "name": "stdout",
          "text": [
            "Fichiers téléchargés : ['/root/.cache/pooch/eeebeae5c5966a8643cbec3a97f28bca-Efe70_k3wXJHnrbYK9h1uBwBUgNCzc5_24r73e1xETG0ug', '/root/.cache/pooch/15e08fe31f9592ff42cc7caecb0b9267-EWAfM2fXmJBEiCTivTpZlCEBa5sKr-6SGX8M27JoblF3Tg', '/root/.cache/pooch/34af5befd86ba7cc499434f6c106d34a-ESbZRJJ1jSlCuRxFQTeXxmEBJ8yD8u42W8cjlNVbeh4CCw', '/root/.cache/pooch/364252904277340c3a219805eacf226a-ERypBJ2Dpi1LgIYALQoJFhoBHpjHhC5Ygk85FmJ075y7uw']\n"
          ]
        }
      ]
    },
    {
      "cell_type": "markdown",
      "source": [
        "Create a liste with all variables in data"
      ],
      "metadata": {
        "id": "r3YYWfGg5HAf"
      }
    },
    {
      "cell_type": "code",
      "source": [
        "# Liste pour stocker les variables de tous les fichiers\n",
        "all_variables = []\n",
        "\n",
        "for file_path in downloaded_files:\n",
        "    with nc.Dataset(file_path) as dataset:\n",
        "        print(f\"Fichier : {file_path}\")\n",
        "        print(\"Variables disponibles :\", dataset.variables.keys())\n",
        "        all_variables.append(dataset.variables.keys())\n"
      ],
      "metadata": {
        "collapsed": true,
        "id": "0o5uwGy308LN",
        "outputId": "ccc18c44-c2be-4349-b01c-ff72af2f09cc",
        "colab": {
          "base_uri": "https://localhost:8080/"
        }
      },
      "execution_count": null,
      "outputs": [
        {
          "output_type": "stream",
          "name": "stdout",
          "text": [
            "Fichier : /root/.cache/pooch/eeebeae5c5966a8643cbec3a97f28bca-Efe70_k3wXJHnrbYK9h1uBwBUgNCzc5_24r73e1xETG0ug\n",
            "Variables disponibles : dict_keys(['Batt', 'Ptemp', 'AirTC', 'RH', 'Slrw', 'Slrm', 'WS', 'WindDir', 'Rain', 'BP', 'WindGust', 'time_qual', 'Batt_qual', 'Ptemp_qual', 'AirTC_qual', 'RH_qual', 'Slrw_qual', 'Slrm_qual', 'WS_qual', 'WindDir_qual', 'Rain_qual', 'BP_qual', 'WindGust_qual', 'time'])\n",
            "Fichier : /root/.cache/pooch/15e08fe31f9592ff42cc7caecb0b9267-EWAfM2fXmJBEiCTivTpZlCEBa5sKr-6SGX8M27JoblF3Tg\n",
            "Variables disponibles : dict_keys(['temp', 'surfacetemp', 'bottomtemp', 'mixed_layer_depth', 'thermocline_depth', 'schmidt_stability', 'heat_content', 'time', 'depth'])\n",
            "Fichier : /root/.cache/pooch/34af5befd86ba7cc499434f6c106d34a-ESbZRJJ1jSlCuRxFQTeXxmEBJ8yD8u42W8cjlNVbeh4CCw\n",
            "Variables disponibles : dict_keys(['temp', 'interp_temp', 'surfacetemp', 'bottomtemp', 'mixed_layer_depth', 'thermocline_depth', 'schmidt_stability', 'heat_content', 'time', 'depth'])\n",
            "Fichier : /root/.cache/pooch/364252904277340c3a219805eacf226a-ERypBJ2Dpi1LgIYALQoJFhoBHpjHhC5Ygk85FmJ075y7uw\n",
            "Variables disponibles : dict_keys(['temp', 'surfacetemp', 'bottomtemp', 'mixed_layer_depth', 'thermocline_depth', 'schmidt_stability', 'heat_content', 'time', 'depth'])\n"
          ]
        }
      ]
    },
    {
      "cell_type": "code",
      "source": [
        "# Charger tous les fichiers en tant que Dataset\n",
        "datasets = [xr.open_dataset(file) for file in downloaded_files]\n",
        "\n",
        "# Fusionner sur une dimension commune (par exemple \"time\")\n",
        "data = xr.concat(datasets, dim=\"time\")\n",
        "\n",
        "# Inspecter le résultat\n",
        "print(data)\n",
        "\n",
        "# Sauvegarder le résultat fusionné\n",
        "data.to_netcdf(\"data_merged.nc\")\n"
      ],
      "metadata": {
        "collapsed": true,
        "id": "feZC6CaO08IQ",
        "outputId": "93bbc462-0535-4d57-d54f-2b601366aa7e",
        "colab": {
          "base_uri": "https://localhost:8080/"
        }
      },
      "execution_count": null,
      "outputs": [
        {
          "output_type": "stream",
          "name": "stdout",
          "text": [
            "<xarray.Dataset> Size: 562MB\n",
            "Dimensions:            (time: 516443, depth: 53)\n",
            "Coordinates:\n",
            "  * time               (time) datetime64[ns] 4MB 2019-07-29T18:00:00 ... 2024...\n",
            "  * depth              (depth) float64 424B 0.25 0.5 0.75 1.0 ... 87.0 90.0 93.0\n",
            "Data variables: (12/31)\n",
            "    Batt               (time) float64 4MB 12.24 12.24 12.24 ... nan nan nan\n",
            "    Ptemp              (time) float64 4MB 30.39 29.73 29.1 28.74 ... nan nan nan\n",
            "    AirTC              (time) float64 4MB 23.39 23.31 23.43 ... nan nan nan\n",
            "    RH                 (time) float64 4MB 60.12 60.19 58.28 57.7 ... nan nan nan\n",
            "    Slrw               (time) float64 4MB 61.07 62.85 113.0 95.0 ... nan nan nan\n",
            "    Slrm               (time) float64 4MB 0.03664 0.03771 0.0678 ... nan nan nan\n",
            "    ...                 ...\n",
            "    bottomtemp         (time) float64 4MB nan nan nan nan ... 7.499 7.507 7.507\n",
            "    mixed_layer_depth  (time) float64 4MB nan nan nan nan ... 19.0 15.0 15.0\n",
            "    thermocline_depth  (time) float64 4MB nan nan nan nan ... 19.34 19.34 19.34\n",
            "    schmidt_stability  (time) float64 4MB nan nan nan ... 4.887e+03 4.887e+03\n",
            "    heat_content       (time) float64 4MB nan nan nan ... 2.879e+09 2.879e+09\n",
            "    interp_temp        (depth, time) float64 219MB nan nan nan ... nan nan nan\n",
            "Attributes:\n",
            "    institution:  EPFL\n",
            "    source:       Lexplore Weather station Campbell CR1000\n",
            "    references:   LéXPLORE commun instruments sebastien.lavanchy@epfl.ch\n",
            "    history:      See history on Renku\n",
            "    conventions:  CF 1.7\n",
            "    comment:      Data from the Meteostation on Lexplore Platform in Lake Geneva\n",
            "    title:        Lexplore Meteostation\n"
          ]
        }
      ]
    },
    {
      "cell_type": "code",
      "source": [
        "# Liste les fichiers dans le répertoire courant\n",
        "import os\n",
        "print(os.listdir('.'))"
      ],
      "metadata": {
        "colab": {
          "base_uri": "https://localhost:8080/"
        },
        "id": "k5K2udRYf9Ov",
        "outputId": "000923b5-c0bc-478f-8762-7e82ea542416"
      },
      "execution_count": null,
      "outputs": [
        {
          "output_type": "stream",
          "name": "stdout",
          "text": [
            "['.config', 'data_merged.nc', 'sample_data']\n"
          ]
        }
      ]
    },
    {
      "cell_type": "code",
      "source": [
        "for file_path in downloaded_files:\n",
        "    dataset = xr.open_dataset(file_path)\n",
        "    print(f\"File: {file_path}\")\n",
        "    print(\"Variables available:\")\n",
        "    print(dataset.variables)  # Lists all variables with metadata\n",
        "    print(\"\\n\")\n",
        "    dataset.close()  # Close the file when done"
      ],
      "metadata": {
        "collapsed": true,
        "colab": {
          "base_uri": "https://localhost:8080/"
        },
        "id": "VSs_zy1skFN8",
        "outputId": "dd9d940e-df5d-468f-8baf-90cb7e99c28c"
      },
      "execution_count": null,
      "outputs": [
        {
          "output_type": "stream",
          "name": "stdout",
          "text": [
            "File: /root/.cache/pooch/eeebeae5c5966a8643cbec3a97f28bca-Efe70_k3wXJHnrbYK9h1uBwBUgNCzc5_24r73e1xETG0ug\n",
            "Variables available:\n",
            "Frozen({'Batt': <xarray.Variable (time: 268466)> Size: 2MB\n",
            "[268466 values with dtype=float64]\n",
            "Attributes:\n",
            "    units:      V\n",
            "    long_name:  battery_level, 'Ptemp': <xarray.Variable (time: 268466)> Size: 2MB\n",
            "[268466 values with dtype=float64]\n",
            "Attributes:\n",
            "    units:      degC\n",
            "    long_name:  panel_temperature, 'AirTC': <xarray.Variable (time: 268466)> Size: 2MB\n",
            "[268466 values with dtype=float64]\n",
            "Attributes:\n",
            "    units:      degC\n",
            "    long_name:  air_temperature, 'RH': <xarray.Variable (time: 268466)> Size: 2MB\n",
            "[268466 values with dtype=float64]\n",
            "Attributes:\n",
            "    units:      %\n",
            "    long_name:  relative_humidity, 'Slrw': <xarray.Variable (time: 268466)> Size: 2MB\n",
            "[268466 values with dtype=float64]\n",
            "Attributes:\n",
            "    units:      W m-2\n",
            "    long_name:  solar_irradiance, 'Slrm': <xarray.Variable (time: 268466)> Size: 2MB\n",
            "[268466 values with dtype=float64]\n",
            "Attributes:\n",
            "    units:      MJ m-2\n",
            "    long_name:  total_solar_irradiance, 'WS': <xarray.Variable (time: 268466)> Size: 2MB\n",
            "[268466 values with dtype=float64]\n",
            "Attributes:\n",
            "    units:      m s-1\n",
            "    long_name:  wind_speed, 'WindDir': <xarray.Variable (time: 268466)> Size: 2MB\n",
            "[268466 values with dtype=float64]\n",
            "Attributes:\n",
            "    units:      deg\n",
            "    long_name:  wind_direction, 'Rain': <xarray.Variable (time: 268466)> Size: 2MB\n",
            "[268466 values with dtype=float64]\n",
            "Attributes:\n",
            "    units:      mm\n",
            "    long_name:  precipitation_depth, 'BP': <xarray.Variable (time: 268466)> Size: 2MB\n",
            "[268466 values with dtype=float64]\n",
            "Attributes:\n",
            "    units:      mbar\n",
            "    long_name:  barometric_pressure, 'WindGust': <xarray.Variable (time: 268466)> Size: 2MB\n",
            "[268466 values with dtype=float64]\n",
            "Attributes:\n",
            "    units:      m/s\n",
            "    long_name:  wind_gust, 'time_qual': <xarray.Variable (time: 268466)> Size: 2MB\n",
            "[268466 values with dtype=float64]\n",
            "Attributes:\n",
            "    units:      0 = nothing to report, 1 = more investigation\n",
            "    long_name:  time_qual, 'Batt_qual': <xarray.Variable (time: 268466)> Size: 2MB\n",
            "[268466 values with dtype=float64]\n",
            "Attributes:\n",
            "    units:      0 = nothing to report, 1 = more investigation\n",
            "    long_name:  Batt_qual, 'Ptemp_qual': <xarray.Variable (time: 268466)> Size: 2MB\n",
            "[268466 values with dtype=float64]\n",
            "Attributes:\n",
            "    units:      0 = nothing to report, 1 = more investigation\n",
            "    long_name:  Ptemp_qual, 'AirTC_qual': <xarray.Variable (time: 268466)> Size: 2MB\n",
            "[268466 values with dtype=float64]\n",
            "Attributes:\n",
            "    units:      0 = nothing to report, 1 = more investigation\n",
            "    long_name:  AirTC_qual, 'RH_qual': <xarray.Variable (time: 268466)> Size: 2MB\n",
            "[268466 values with dtype=float64]\n",
            "Attributes:\n",
            "    units:      0 = nothing to report, 1 = more investigation\n",
            "    long_name:  RH_qual, 'Slrw_qual': <xarray.Variable (time: 268466)> Size: 2MB\n",
            "[268466 values with dtype=float64]\n",
            "Attributes:\n",
            "    units:      0 = nothing to report, 1 = more investigation\n",
            "    long_name:  Slrw_qual, 'Slrm_qual': <xarray.Variable (time: 268466)> Size: 2MB\n",
            "[268466 values with dtype=float64]\n",
            "Attributes:\n",
            "    units:      0 = nothing to report, 1 = more investigation\n",
            "    long_name:  Slrm_qual, 'WS_qual': <xarray.Variable (time: 268466)> Size: 2MB\n",
            "[268466 values with dtype=float64]\n",
            "Attributes:\n",
            "    units:      0 = nothing to report, 1 = more investigation\n",
            "    long_name:  WS_qual, 'WindDir_qual': <xarray.Variable (time: 268466)> Size: 2MB\n",
            "[268466 values with dtype=float64]\n",
            "Attributes:\n",
            "    units:      0 = nothing to report, 1 = more investigation\n",
            "    long_name:  WindDir_qual, 'Rain_qual': <xarray.Variable (time: 268466)> Size: 2MB\n",
            "[268466 values with dtype=float64]\n",
            "Attributes:\n",
            "    units:      0 = nothing to report, 1 = more investigation\n",
            "    long_name:  Rain_qual, 'BP_qual': <xarray.Variable (time: 268466)> Size: 2MB\n",
            "[268466 values with dtype=float64]\n",
            "Attributes:\n",
            "    units:      0 = nothing to report, 1 = more investigation\n",
            "    long_name:  BP_qual, 'WindGust_qual': <xarray.Variable (time: 268466)> Size: 2MB\n",
            "[268466 values with dtype=float64]\n",
            "Attributes:\n",
            "    units:      0 = nothing to report, 1 = more investigation\n",
            "    long_name:  WindGust_qual, 'time': <xarray.IndexVariable 'time' (time: 268466)> Size: 2MB\n",
            "array(['2019-07-29T18:00:00.000000000', '2019-07-29T18:10:00.000000000',\n",
            "       '2019-07-29T18:20:00.000000000', ..., '2024-10-30T15:30:00.000000000',\n",
            "       '2024-10-30T15:40:00.000000000', '2024-10-30T15:50:00.000000000'],\n",
            "      dtype='datetime64[ns]')\n",
            "Attributes:\n",
            "    long_name:  time})\n",
            "\n",
            "\n",
            "File: /root/.cache/pooch/15e08fe31f9592ff42cc7caecb0b9267-EWAfM2fXmJBEiCTivTpZlCEBa5sKr-6SGX8M27JoblF3Tg\n",
            "Variables available:\n",
            "Frozen({'temp': <xarray.Variable (depth: 48, time: 23507)> Size: 9MB\n",
            "[1128336 values with dtype=float64]\n",
            "Attributes:\n",
            "    units:      degC\n",
            "    long_name:  temperature, 'surfacetemp': <xarray.Variable (time: 23507)> Size: 188kB\n",
            "[23507 values with dtype=float64]\n",
            "Attributes:\n",
            "    units:      degC\n",
            "    long_name:  surface temperature, 'bottomtemp': <xarray.Variable (time: 23507)> Size: 188kB\n",
            "[23507 values with dtype=float64]\n",
            "Attributes:\n",
            "    units:      degC\n",
            "    long_name:  bottom temperature, 'mixed_layer_depth': <xarray.Variable (time: 23507)> Size: 188kB\n",
            "[23507 values with dtype=float64]\n",
            "Attributes:\n",
            "    units:      m\n",
            "    long_name:  mixed_layer_depth, 'thermocline_depth': <xarray.Variable (time: 23507)> Size: 188kB\n",
            "[23507 values with dtype=float64]\n",
            "Attributes:\n",
            "    units:      m\n",
            "    long_name:  thermocline_depth, 'schmidt_stability': <xarray.Variable (time: 23507)> Size: 188kB\n",
            "[23507 values with dtype=float64]\n",
            "Attributes:\n",
            "    units:      kg m-2\n",
            "    long_name:  schmidt_stability, 'heat_content': <xarray.Variable (time: 23507)> Size: 188kB\n",
            "[23507 values with dtype=float64]\n",
            "Attributes:\n",
            "    units:      J\n",
            "    long_name:  heat_content, 'time': <xarray.IndexVariable 'time' (time: 23507)> Size: 188kB\n",
            "array(['2019-06-19T11:40:00.000000000', '2019-06-19T11:50:00.000000000',\n",
            "       '2019-06-19T12:00:00.000000000', ..., '2020-01-15T23:50:00.000000000',\n",
            "       '2020-01-16T00:00:00.000000000', '2020-01-16T00:10:00.000000000'],\n",
            "      dtype='datetime64[ns]')\n",
            "Attributes:\n",
            "    long_name:  time, 'depth': <xarray.IndexVariable 'depth' (depth: 48)> Size: 384B\n",
            "array([ 0.25,  0.5 ,  0.75,  1.  ,  1.25,  1.5 ,  2.  ,  2.5 ,  3.  ,  4.  ,\n",
            "        5.  ,  6.  ,  7.  ,  8.  ,  9.  , 10.  , 11.  , 12.  , 13.  , 14.  ,\n",
            "       15.  , 16.  , 17.  , 18.  , 21.  , 24.  , 27.  , 30.  , 33.  , 36.  ,\n",
            "       39.  , 42.  , 45.  , 48.  , 51.  , 54.  , 57.  , 60.  , 63.  , 66.  ,\n",
            "       69.  , 72.  , 75.  , 78.  , 81.  , 84.  , 87.  , 90.  ])\n",
            "Attributes:\n",
            "    units:      m\n",
            "    long_name:  depth})\n",
            "\n",
            "\n",
            "File: /root/.cache/pooch/34af5befd86ba7cc499434f6c106d34a-ESbZRJJ1jSlCuRxFQTeXxmEBJ8yD8u42W8cjlNVbeh4CCw\n",
            "Variables available:\n",
            "Frozen({'temp': <xarray.Variable (depth: 48, time: 141602)> Size: 54MB\n",
            "[6796896 values with dtype=float64]\n",
            "Attributes:\n",
            "    units:      degC\n",
            "    long_name:  temperature, 'interp_temp': <xarray.Variable (depth: 48, time: 141602)> Size: 54MB\n",
            "[6796896 values with dtype=float64]\n",
            "Attributes:\n",
            "    units:      0 = real data, 1 = interpolated data\n",
            "    long_name:  Interpolate temperature, 'surfacetemp': <xarray.Variable (time: 141602)> Size: 1MB\n",
            "[141602 values with dtype=float64]\n",
            "Attributes:\n",
            "    units:      degC\n",
            "    long_name:  surface temperature, 'bottomtemp': <xarray.Variable (time: 141602)> Size: 1MB\n",
            "[141602 values with dtype=float64]\n",
            "Attributes:\n",
            "    units:      degC\n",
            "    long_name:  bottom temperature, 'mixed_layer_depth': <xarray.Variable (time: 141602)> Size: 1MB\n",
            "[141602 values with dtype=float64]\n",
            "Attributes:\n",
            "    units:      m\n",
            "    long_name:  mixed_layer_depth, 'thermocline_depth': <xarray.Variable (time: 141602)> Size: 1MB\n",
            "[141602 values with dtype=float64]\n",
            "Attributes:\n",
            "    units:      m\n",
            "    long_name:  thermocline_depth, 'schmidt_stability': <xarray.Variable (time: 141602)> Size: 1MB\n",
            "[141602 values with dtype=float64]\n",
            "Attributes:\n",
            "    units:      kg m-2\n",
            "    long_name:  schmidt_stability, 'heat_content': <xarray.Variable (time: 141602)> Size: 1MB\n",
            "[141602 values with dtype=float64]\n",
            "Attributes:\n",
            "    units:      J\n",
            "    long_name:  heat_content, 'time': <xarray.IndexVariable 'time' (time: 141602)> Size: 1MB\n",
            "array(['2020-04-17T16:30:00.000000000', '2020-04-17T16:40:00.000000000',\n",
            "       '2020-04-17T16:50:00.000000000', ..., '2023-01-05T09:20:00.000000000',\n",
            "       '2023-01-05T09:30:00.000000000', '2023-01-05T09:40:00.000000000'],\n",
            "      dtype='datetime64[ns]')\n",
            "Attributes:\n",
            "    long_name:  time, 'depth': <xarray.IndexVariable 'depth' (depth: 48)> Size: 384B\n",
            "array([ 0.25,  0.5 ,  0.75,  1.  ,  1.25,  1.5 ,  2.  ,  2.5 ,  3.  ,  4.  ,\n",
            "        5.  ,  6.  ,  7.  ,  8.  ,  9.  , 10.  , 11.  , 12.  , 13.  , 14.  ,\n",
            "       15.  , 16.  , 17.  , 18.  , 21.  , 24.  , 27.  , 30.  , 33.  , 36.  ,\n",
            "       39.  , 42.  , 45.  , 48.  , 51.  , 54.  , 57.  , 60.  , 63.  , 66.  ,\n",
            "       69.  , 72.  , 75.  , 78.  , 81.  , 84.  , 87.  , 90.  ])\n",
            "Attributes:\n",
            "    units:      m\n",
            "    long_name:  depth})\n",
            "\n",
            "\n",
            "File: /root/.cache/pooch/364252904277340c3a219805eacf226a-ERypBJ2Dpi1LgIYALQoJFhoBHpjHhC5Ygk85FmJ075y7uw\n",
            "Variables available:\n",
            "Frozen({'temp': <xarray.Variable (depth: 48, time: 82868)> Size: 32MB\n",
            "[3977664 values with dtype=float64]\n",
            "Attributes:\n",
            "    units:      degC\n",
            "    long_name:  temperature, 'surfacetemp': <xarray.Variable (time: 82868)> Size: 663kB\n",
            "[82868 values with dtype=float64]\n",
            "Attributes:\n",
            "    units:      degC\n",
            "    long_name:  surface temperature, 'bottomtemp': <xarray.Variable (time: 82868)> Size: 663kB\n",
            "[82868 values with dtype=float64]\n",
            "Attributes:\n",
            "    units:      degC\n",
            "    long_name:  bottom temperature, 'mixed_layer_depth': <xarray.Variable (time: 82868)> Size: 663kB\n",
            "[82868 values with dtype=float64]\n",
            "Attributes:\n",
            "    units:      m\n",
            "    long_name:  mixed_layer_depth, 'thermocline_depth': <xarray.Variable (time: 82868)> Size: 663kB\n",
            "[82868 values with dtype=float64]\n",
            "Attributes:\n",
            "    units:      m\n",
            "    long_name:  thermocline_depth, 'schmidt_stability': <xarray.Variable (time: 82868)> Size: 663kB\n",
            "[82868 values with dtype=float64]\n",
            "Attributes:\n",
            "    units:      kg m-2\n",
            "    long_name:  schmidt_stability, 'heat_content': <xarray.Variable (time: 82868)> Size: 663kB\n",
            "[82868 values with dtype=float64]\n",
            "Attributes:\n",
            "    units:      J\n",
            "    long_name:  heat_content, 'time': <xarray.IndexVariable 'time' (time: 82868)> Size: 663kB\n",
            "array(['2023-01-11T14:20:00.000000000', '2023-01-11T14:30:00.000000000',\n",
            "       '2023-01-11T14:40:00.000000000', ..., '2024-10-30T15:30:00.000000000',\n",
            "       '2024-10-30T15:40:00.000000000', '2024-10-30T15:50:00.000000000'],\n",
            "      dtype='datetime64[ns]')\n",
            "Attributes:\n",
            "    long_name:  time, 'depth': <xarray.IndexVariable 'depth' (depth: 48)> Size: 384B\n",
            "array([ 0.25,  1.  ,  2.  ,  3.  ,  4.  ,  5.  ,  6.  ,  7.  ,  8.  ,  9.  ,\n",
            "       10.  , 11.  , 12.  , 13.  , 14.  , 15.  , 16.  , 17.  , 18.  , 19.  ,\n",
            "       20.  , 21.  , 22.  , 23.  , 24.  , 27.  , 30.  , 33.  , 36.  , 39.  ,\n",
            "       42.  , 45.  , 48.  , 51.  , 54.  , 57.  , 60.  , 63.  , 66.  , 69.  ,\n",
            "       72.  , 75.  , 78.  , 81.  , 84.  , 87.  , 90.  , 93.  ])\n",
            "Attributes:\n",
            "    units:      m\n",
            "    long_name:  depth})\n",
            "\n",
            "\n"
          ]
        }
      ]
    },
    {
      "cell_type": "code",
      "source": [
        "# Load the combined files\n",
        "L1    = xr.open_dataset('./L1_combined.nc')\n",
        "L2_v0 = xr.open_dataset('./L2_v0_combined.nc')\n",
        "L2_v1 = xr.open_dataset('./L2_v1_combined.nc')\n",
        "L2_v2 = xr.open_dataset('./L2_v2_combined.nc')"
      ],
      "metadata": {
        "colab": {
          "base_uri": "https://localhost:8080/",
          "height": 507
        },
        "id": "Df7IaSdPboCl",
        "outputId": "31ed22cd-7eb0-46ad-e3b6-ed4e7be26fc0"
      },
      "execution_count": null,
      "outputs": [
        {
          "output_type": "error",
          "ename": "FileNotFoundError",
          "evalue": "[Errno 2] No such file or directory: '/content/L1_combined.nc'",
          "traceback": [
            "\u001b[0;31m---------------------------------------------------------------------------\u001b[0m",
            "\u001b[0;31mKeyError\u001b[0m                                  Traceback (most recent call last)",
            "\u001b[0;32m/usr/local/lib/python3.10/dist-packages/xarray/backends/file_manager.py\u001b[0m in \u001b[0;36m_acquire_with_cache_info\u001b[0;34m(self, needs_lock)\u001b[0m\n\u001b[1;32m    210\u001b[0m             \u001b[0;32mtry\u001b[0m\u001b[0;34m:\u001b[0m\u001b[0;34m\u001b[0m\u001b[0;34m\u001b[0m\u001b[0m\n\u001b[0;32m--> 211\u001b[0;31m                 \u001b[0mfile\u001b[0m \u001b[0;34m=\u001b[0m \u001b[0mself\u001b[0m\u001b[0;34m.\u001b[0m\u001b[0m_cache\u001b[0m\u001b[0;34m[\u001b[0m\u001b[0mself\u001b[0m\u001b[0;34m.\u001b[0m\u001b[0m_key\u001b[0m\u001b[0;34m]\u001b[0m\u001b[0;34m\u001b[0m\u001b[0;34m\u001b[0m\u001b[0m\n\u001b[0m\u001b[1;32m    212\u001b[0m             \u001b[0;32mexcept\u001b[0m \u001b[0mKeyError\u001b[0m\u001b[0;34m:\u001b[0m\u001b[0;34m\u001b[0m\u001b[0;34m\u001b[0m\u001b[0m\n",
            "\u001b[0;32m/usr/local/lib/python3.10/dist-packages/xarray/backends/lru_cache.py\u001b[0m in \u001b[0;36m__getitem__\u001b[0;34m(self, key)\u001b[0m\n\u001b[1;32m     55\u001b[0m         \u001b[0;32mwith\u001b[0m \u001b[0mself\u001b[0m\u001b[0;34m.\u001b[0m\u001b[0m_lock\u001b[0m\u001b[0;34m:\u001b[0m\u001b[0;34m\u001b[0m\u001b[0;34m\u001b[0m\u001b[0m\n\u001b[0;32m---> 56\u001b[0;31m             \u001b[0mvalue\u001b[0m \u001b[0;34m=\u001b[0m \u001b[0mself\u001b[0m\u001b[0;34m.\u001b[0m\u001b[0m_cache\u001b[0m\u001b[0;34m[\u001b[0m\u001b[0mkey\u001b[0m\u001b[0;34m]\u001b[0m\u001b[0;34m\u001b[0m\u001b[0;34m\u001b[0m\u001b[0m\n\u001b[0m\u001b[1;32m     57\u001b[0m             \u001b[0mself\u001b[0m\u001b[0;34m.\u001b[0m\u001b[0m_cache\u001b[0m\u001b[0;34m.\u001b[0m\u001b[0mmove_to_end\u001b[0m\u001b[0;34m(\u001b[0m\u001b[0mkey\u001b[0m\u001b[0;34m)\u001b[0m\u001b[0;34m\u001b[0m\u001b[0;34m\u001b[0m\u001b[0m\n",
            "\u001b[0;31mKeyError\u001b[0m: [<class 'netCDF4._netCDF4.Dataset'>, ('/content/L1_combined.nc',), 'r', (('clobber', True), ('diskless', False), ('format', 'NETCDF4'), ('persist', False)), '9be297ef-6411-467b-822e-ce8464053a01']",
            "\nDuring handling of the above exception, another exception occurred:\n",
            "\u001b[0;31mFileNotFoundError\u001b[0m                         Traceback (most recent call last)",
            "\u001b[0;32m<ipython-input-40-86ae7067372a>\u001b[0m in \u001b[0;36m<cell line: 2>\u001b[0;34m()\u001b[0m\n\u001b[1;32m      1\u001b[0m \u001b[0;31m# Load the combined files\u001b[0m\u001b[0;34m\u001b[0m\u001b[0;34m\u001b[0m\u001b[0m\n\u001b[0;32m----> 2\u001b[0;31m \u001b[0mL1\u001b[0m    \u001b[0;34m=\u001b[0m \u001b[0mxr\u001b[0m\u001b[0;34m.\u001b[0m\u001b[0mopen_dataset\u001b[0m\u001b[0;34m(\u001b[0m\u001b[0;34m'./L1_combined.nc'\u001b[0m\u001b[0;34m)\u001b[0m\u001b[0;34m\u001b[0m\u001b[0;34m\u001b[0m\u001b[0m\n\u001b[0m\u001b[1;32m      3\u001b[0m \u001b[0mL2_v0\u001b[0m \u001b[0;34m=\u001b[0m \u001b[0mxr\u001b[0m\u001b[0;34m.\u001b[0m\u001b[0mopen_dataset\u001b[0m\u001b[0;34m(\u001b[0m\u001b[0;34m'./L2_v0_combined.nc'\u001b[0m\u001b[0;34m)\u001b[0m\u001b[0;34m\u001b[0m\u001b[0;34m\u001b[0m\u001b[0m\n\u001b[1;32m      4\u001b[0m \u001b[0mL2_v1\u001b[0m \u001b[0;34m=\u001b[0m \u001b[0mxr\u001b[0m\u001b[0;34m.\u001b[0m\u001b[0mopen_dataset\u001b[0m\u001b[0;34m(\u001b[0m\u001b[0;34m'./L2_v1_combined.nc'\u001b[0m\u001b[0;34m)\u001b[0m\u001b[0;34m\u001b[0m\u001b[0;34m\u001b[0m\u001b[0m\n\u001b[1;32m      5\u001b[0m \u001b[0mL2_v2\u001b[0m \u001b[0;34m=\u001b[0m \u001b[0mxr\u001b[0m\u001b[0;34m.\u001b[0m\u001b[0mopen_dataset\u001b[0m\u001b[0;34m(\u001b[0m\u001b[0;34m'./L2_v2_combined.nc'\u001b[0m\u001b[0;34m)\u001b[0m\u001b[0;34m\u001b[0m\u001b[0;34m\u001b[0m\u001b[0m\n",
            "\u001b[0;32m/usr/local/lib/python3.10/dist-packages/xarray/backends/api.py\u001b[0m in \u001b[0;36mopen_dataset\u001b[0;34m(filename_or_obj, engine, chunks, cache, decode_cf, mask_and_scale, decode_times, decode_timedelta, use_cftime, concat_characters, decode_coords, drop_variables, inline_array, chunked_array_type, from_array_kwargs, backend_kwargs, **kwargs)\u001b[0m\n\u001b[1;32m    669\u001b[0m \u001b[0;34m\u001b[0m\u001b[0m\n\u001b[1;32m    670\u001b[0m     \u001b[0moverwrite_encoded_chunks\u001b[0m \u001b[0;34m=\u001b[0m \u001b[0mkwargs\u001b[0m\u001b[0;34m.\u001b[0m\u001b[0mpop\u001b[0m\u001b[0;34m(\u001b[0m\u001b[0;34m\"overwrite_encoded_chunks\"\u001b[0m\u001b[0;34m,\u001b[0m \u001b[0;32mNone\u001b[0m\u001b[0;34m)\u001b[0m\u001b[0;34m\u001b[0m\u001b[0;34m\u001b[0m\u001b[0m\n\u001b[0;32m--> 671\u001b[0;31m     backend_ds = backend.open_dataset(\n\u001b[0m\u001b[1;32m    672\u001b[0m         \u001b[0mfilename_or_obj\u001b[0m\u001b[0;34m,\u001b[0m\u001b[0;34m\u001b[0m\u001b[0;34m\u001b[0m\u001b[0m\n\u001b[1;32m    673\u001b[0m         \u001b[0mdrop_variables\u001b[0m\u001b[0;34m=\u001b[0m\u001b[0mdrop_variables\u001b[0m\u001b[0;34m,\u001b[0m\u001b[0;34m\u001b[0m\u001b[0;34m\u001b[0m\u001b[0m\n",
            "\u001b[0;32m/usr/local/lib/python3.10/dist-packages/xarray/backends/netCDF4_.py\u001b[0m in \u001b[0;36mopen_dataset\u001b[0;34m(self, filename_or_obj, mask_and_scale, decode_times, concat_characters, decode_coords, drop_variables, use_cftime, decode_timedelta, group, mode, format, clobber, diskless, persist, auto_complex, lock, autoclose)\u001b[0m\n\u001b[1;32m    664\u001b[0m     ) -> Dataset:\n\u001b[1;32m    665\u001b[0m         \u001b[0mfilename_or_obj\u001b[0m \u001b[0;34m=\u001b[0m \u001b[0m_normalize_path\u001b[0m\u001b[0;34m(\u001b[0m\u001b[0mfilename_or_obj\u001b[0m\u001b[0;34m)\u001b[0m\u001b[0;34m\u001b[0m\u001b[0;34m\u001b[0m\u001b[0m\n\u001b[0;32m--> 666\u001b[0;31m         store = NetCDF4DataStore.open(\n\u001b[0m\u001b[1;32m    667\u001b[0m             \u001b[0mfilename_or_obj\u001b[0m\u001b[0;34m,\u001b[0m\u001b[0;34m\u001b[0m\u001b[0;34m\u001b[0m\u001b[0m\n\u001b[1;32m    668\u001b[0m             \u001b[0mmode\u001b[0m\u001b[0;34m=\u001b[0m\u001b[0mmode\u001b[0m\u001b[0;34m,\u001b[0m\u001b[0;34m\u001b[0m\u001b[0;34m\u001b[0m\u001b[0m\n",
            "\u001b[0;32m/usr/local/lib/python3.10/dist-packages/xarray/backends/netCDF4_.py\u001b[0m in \u001b[0;36mopen\u001b[0;34m(cls, filename, mode, format, group, clobber, diskless, persist, auto_complex, lock, lock_maker, autoclose)\u001b[0m\n\u001b[1;32m    451\u001b[0m             \u001b[0mnetCDF4\u001b[0m\u001b[0;34m.\u001b[0m\u001b[0mDataset\u001b[0m\u001b[0;34m,\u001b[0m \u001b[0mfilename\u001b[0m\u001b[0;34m,\u001b[0m \u001b[0mmode\u001b[0m\u001b[0;34m=\u001b[0m\u001b[0mmode\u001b[0m\u001b[0;34m,\u001b[0m \u001b[0mkwargs\u001b[0m\u001b[0;34m=\u001b[0m\u001b[0mkwargs\u001b[0m\u001b[0;34m\u001b[0m\u001b[0;34m\u001b[0m\u001b[0m\n\u001b[1;32m    452\u001b[0m         )\n\u001b[0;32m--> 453\u001b[0;31m         \u001b[0;32mreturn\u001b[0m \u001b[0mcls\u001b[0m\u001b[0;34m(\u001b[0m\u001b[0mmanager\u001b[0m\u001b[0;34m,\u001b[0m \u001b[0mgroup\u001b[0m\u001b[0;34m=\u001b[0m\u001b[0mgroup\u001b[0m\u001b[0;34m,\u001b[0m \u001b[0mmode\u001b[0m\u001b[0;34m=\u001b[0m\u001b[0mmode\u001b[0m\u001b[0;34m,\u001b[0m \u001b[0mlock\u001b[0m\u001b[0;34m=\u001b[0m\u001b[0mlock\u001b[0m\u001b[0;34m,\u001b[0m \u001b[0mautoclose\u001b[0m\u001b[0;34m=\u001b[0m\u001b[0mautoclose\u001b[0m\u001b[0;34m)\u001b[0m\u001b[0;34m\u001b[0m\u001b[0;34m\u001b[0m\u001b[0m\n\u001b[0m\u001b[1;32m    454\u001b[0m \u001b[0;34m\u001b[0m\u001b[0m\n\u001b[1;32m    455\u001b[0m     \u001b[0;32mdef\u001b[0m \u001b[0m_acquire\u001b[0m\u001b[0;34m(\u001b[0m\u001b[0mself\u001b[0m\u001b[0;34m,\u001b[0m \u001b[0mneeds_lock\u001b[0m\u001b[0;34m=\u001b[0m\u001b[0;32mTrue\u001b[0m\u001b[0;34m)\u001b[0m\u001b[0;34m:\u001b[0m\u001b[0;34m\u001b[0m\u001b[0;34m\u001b[0m\u001b[0m\n",
            "\u001b[0;32m/usr/local/lib/python3.10/dist-packages/xarray/backends/netCDF4_.py\u001b[0m in \u001b[0;36m__init__\u001b[0;34m(self, manager, group, mode, lock, autoclose)\u001b[0m\n\u001b[1;32m    392\u001b[0m         \u001b[0mself\u001b[0m\u001b[0;34m.\u001b[0m\u001b[0m_group\u001b[0m \u001b[0;34m=\u001b[0m \u001b[0mgroup\u001b[0m\u001b[0;34m\u001b[0m\u001b[0;34m\u001b[0m\u001b[0m\n\u001b[1;32m    393\u001b[0m         \u001b[0mself\u001b[0m\u001b[0;34m.\u001b[0m\u001b[0m_mode\u001b[0m \u001b[0;34m=\u001b[0m \u001b[0mmode\u001b[0m\u001b[0;34m\u001b[0m\u001b[0;34m\u001b[0m\u001b[0m\n\u001b[0;32m--> 394\u001b[0;31m         \u001b[0mself\u001b[0m\u001b[0;34m.\u001b[0m\u001b[0mformat\u001b[0m \u001b[0;34m=\u001b[0m \u001b[0mself\u001b[0m\u001b[0;34m.\u001b[0m\u001b[0mds\u001b[0m\u001b[0;34m.\u001b[0m\u001b[0mdata_model\u001b[0m\u001b[0;34m\u001b[0m\u001b[0;34m\u001b[0m\u001b[0m\n\u001b[0m\u001b[1;32m    395\u001b[0m         \u001b[0mself\u001b[0m\u001b[0;34m.\u001b[0m\u001b[0m_filename\u001b[0m \u001b[0;34m=\u001b[0m \u001b[0mself\u001b[0m\u001b[0;34m.\u001b[0m\u001b[0mds\u001b[0m\u001b[0;34m.\u001b[0m\u001b[0mfilepath\u001b[0m\u001b[0;34m(\u001b[0m\u001b[0;34m)\u001b[0m\u001b[0;34m\u001b[0m\u001b[0;34m\u001b[0m\u001b[0m\n\u001b[1;32m    396\u001b[0m         \u001b[0mself\u001b[0m\u001b[0;34m.\u001b[0m\u001b[0mis_remote\u001b[0m \u001b[0;34m=\u001b[0m \u001b[0mis_remote_uri\u001b[0m\u001b[0;34m(\u001b[0m\u001b[0mself\u001b[0m\u001b[0;34m.\u001b[0m\u001b[0m_filename\u001b[0m\u001b[0;34m)\u001b[0m\u001b[0;34m\u001b[0m\u001b[0;34m\u001b[0m\u001b[0m\n",
            "\u001b[0;32m/usr/local/lib/python3.10/dist-packages/xarray/backends/netCDF4_.py\u001b[0m in \u001b[0;36mds\u001b[0;34m(self)\u001b[0m\n\u001b[1;32m    460\u001b[0m     \u001b[0;34m@\u001b[0m\u001b[0mproperty\u001b[0m\u001b[0;34m\u001b[0m\u001b[0;34m\u001b[0m\u001b[0m\n\u001b[1;32m    461\u001b[0m     \u001b[0;32mdef\u001b[0m \u001b[0mds\u001b[0m\u001b[0;34m(\u001b[0m\u001b[0mself\u001b[0m\u001b[0;34m)\u001b[0m\u001b[0;34m:\u001b[0m\u001b[0;34m\u001b[0m\u001b[0;34m\u001b[0m\u001b[0m\n\u001b[0;32m--> 462\u001b[0;31m         \u001b[0;32mreturn\u001b[0m \u001b[0mself\u001b[0m\u001b[0;34m.\u001b[0m\u001b[0m_acquire\u001b[0m\u001b[0;34m(\u001b[0m\u001b[0;34m)\u001b[0m\u001b[0;34m\u001b[0m\u001b[0;34m\u001b[0m\u001b[0m\n\u001b[0m\u001b[1;32m    463\u001b[0m \u001b[0;34m\u001b[0m\u001b[0m\n\u001b[1;32m    464\u001b[0m     \u001b[0;32mdef\u001b[0m \u001b[0mopen_store_variable\u001b[0m\u001b[0;34m(\u001b[0m\u001b[0mself\u001b[0m\u001b[0;34m,\u001b[0m \u001b[0mname\u001b[0m\u001b[0;34m:\u001b[0m \u001b[0mstr\u001b[0m\u001b[0;34m,\u001b[0m \u001b[0mvar\u001b[0m\u001b[0;34m)\u001b[0m\u001b[0;34m:\u001b[0m\u001b[0;34m\u001b[0m\u001b[0;34m\u001b[0m\u001b[0m\n",
            "\u001b[0;32m/usr/local/lib/python3.10/dist-packages/xarray/backends/netCDF4_.py\u001b[0m in \u001b[0;36m_acquire\u001b[0;34m(self, needs_lock)\u001b[0m\n\u001b[1;32m    454\u001b[0m \u001b[0;34m\u001b[0m\u001b[0m\n\u001b[1;32m    455\u001b[0m     \u001b[0;32mdef\u001b[0m \u001b[0m_acquire\u001b[0m\u001b[0;34m(\u001b[0m\u001b[0mself\u001b[0m\u001b[0;34m,\u001b[0m \u001b[0mneeds_lock\u001b[0m\u001b[0;34m=\u001b[0m\u001b[0;32mTrue\u001b[0m\u001b[0;34m)\u001b[0m\u001b[0;34m:\u001b[0m\u001b[0;34m\u001b[0m\u001b[0;34m\u001b[0m\u001b[0m\n\u001b[0;32m--> 456\u001b[0;31m         \u001b[0;32mwith\u001b[0m \u001b[0mself\u001b[0m\u001b[0;34m.\u001b[0m\u001b[0m_manager\u001b[0m\u001b[0;34m.\u001b[0m\u001b[0macquire_context\u001b[0m\u001b[0;34m(\u001b[0m\u001b[0mneeds_lock\u001b[0m\u001b[0;34m)\u001b[0m \u001b[0;32mas\u001b[0m \u001b[0mroot\u001b[0m\u001b[0;34m:\u001b[0m\u001b[0;34m\u001b[0m\u001b[0;34m\u001b[0m\u001b[0m\n\u001b[0m\u001b[1;32m    457\u001b[0m             \u001b[0mds\u001b[0m \u001b[0;34m=\u001b[0m \u001b[0m_nc4_require_group\u001b[0m\u001b[0;34m(\u001b[0m\u001b[0mroot\u001b[0m\u001b[0;34m,\u001b[0m \u001b[0mself\u001b[0m\u001b[0;34m.\u001b[0m\u001b[0m_group\u001b[0m\u001b[0;34m,\u001b[0m \u001b[0mself\u001b[0m\u001b[0;34m.\u001b[0m\u001b[0m_mode\u001b[0m\u001b[0;34m)\u001b[0m\u001b[0;34m\u001b[0m\u001b[0;34m\u001b[0m\u001b[0m\n\u001b[1;32m    458\u001b[0m         \u001b[0;32mreturn\u001b[0m \u001b[0mds\u001b[0m\u001b[0;34m\u001b[0m\u001b[0;34m\u001b[0m\u001b[0m\n",
            "\u001b[0;32m/usr/lib/python3.10/contextlib.py\u001b[0m in \u001b[0;36m__enter__\u001b[0;34m(self)\u001b[0m\n\u001b[1;32m    133\u001b[0m         \u001b[0;32mdel\u001b[0m \u001b[0mself\u001b[0m\u001b[0;34m.\u001b[0m\u001b[0margs\u001b[0m\u001b[0;34m,\u001b[0m \u001b[0mself\u001b[0m\u001b[0;34m.\u001b[0m\u001b[0mkwds\u001b[0m\u001b[0;34m,\u001b[0m \u001b[0mself\u001b[0m\u001b[0;34m.\u001b[0m\u001b[0mfunc\u001b[0m\u001b[0;34m\u001b[0m\u001b[0;34m\u001b[0m\u001b[0m\n\u001b[1;32m    134\u001b[0m         \u001b[0;32mtry\u001b[0m\u001b[0;34m:\u001b[0m\u001b[0;34m\u001b[0m\u001b[0;34m\u001b[0m\u001b[0m\n\u001b[0;32m--> 135\u001b[0;31m             \u001b[0;32mreturn\u001b[0m \u001b[0mnext\u001b[0m\u001b[0;34m(\u001b[0m\u001b[0mself\u001b[0m\u001b[0;34m.\u001b[0m\u001b[0mgen\u001b[0m\u001b[0;34m)\u001b[0m\u001b[0;34m\u001b[0m\u001b[0;34m\u001b[0m\u001b[0m\n\u001b[0m\u001b[1;32m    136\u001b[0m         \u001b[0;32mexcept\u001b[0m \u001b[0mStopIteration\u001b[0m\u001b[0;34m:\u001b[0m\u001b[0;34m\u001b[0m\u001b[0;34m\u001b[0m\u001b[0m\n\u001b[1;32m    137\u001b[0m             \u001b[0;32mraise\u001b[0m \u001b[0mRuntimeError\u001b[0m\u001b[0;34m(\u001b[0m\u001b[0;34m\"generator didn't yield\"\u001b[0m\u001b[0;34m)\u001b[0m \u001b[0;32mfrom\u001b[0m \u001b[0;32mNone\u001b[0m\u001b[0;34m\u001b[0m\u001b[0;34m\u001b[0m\u001b[0m\n",
            "\u001b[0;32m/usr/local/lib/python3.10/dist-packages/xarray/backends/file_manager.py\u001b[0m in \u001b[0;36macquire_context\u001b[0;34m(self, needs_lock)\u001b[0m\n\u001b[1;32m    197\u001b[0m     \u001b[0;32mdef\u001b[0m \u001b[0macquire_context\u001b[0m\u001b[0;34m(\u001b[0m\u001b[0mself\u001b[0m\u001b[0;34m,\u001b[0m \u001b[0mneeds_lock\u001b[0m\u001b[0;34m=\u001b[0m\u001b[0;32mTrue\u001b[0m\u001b[0;34m)\u001b[0m\u001b[0;34m:\u001b[0m\u001b[0;34m\u001b[0m\u001b[0;34m\u001b[0m\u001b[0m\n\u001b[1;32m    198\u001b[0m         \u001b[0;34m\"\"\"Context manager for acquiring a file.\"\"\"\u001b[0m\u001b[0;34m\u001b[0m\u001b[0;34m\u001b[0m\u001b[0m\n\u001b[0;32m--> 199\u001b[0;31m         \u001b[0mfile\u001b[0m\u001b[0;34m,\u001b[0m \u001b[0mcached\u001b[0m \u001b[0;34m=\u001b[0m \u001b[0mself\u001b[0m\u001b[0;34m.\u001b[0m\u001b[0m_acquire_with_cache_info\u001b[0m\u001b[0;34m(\u001b[0m\u001b[0mneeds_lock\u001b[0m\u001b[0;34m)\u001b[0m\u001b[0;34m\u001b[0m\u001b[0;34m\u001b[0m\u001b[0m\n\u001b[0m\u001b[1;32m    200\u001b[0m         \u001b[0;32mtry\u001b[0m\u001b[0;34m:\u001b[0m\u001b[0;34m\u001b[0m\u001b[0;34m\u001b[0m\u001b[0m\n\u001b[1;32m    201\u001b[0m             \u001b[0;32myield\u001b[0m \u001b[0mfile\u001b[0m\u001b[0;34m\u001b[0m\u001b[0;34m\u001b[0m\u001b[0m\n",
            "\u001b[0;32m/usr/local/lib/python3.10/dist-packages/xarray/backends/file_manager.py\u001b[0m in \u001b[0;36m_acquire_with_cache_info\u001b[0;34m(self, needs_lock)\u001b[0m\n\u001b[1;32m    215\u001b[0m                     \u001b[0mkwargs\u001b[0m \u001b[0;34m=\u001b[0m \u001b[0mkwargs\u001b[0m\u001b[0;34m.\u001b[0m\u001b[0mcopy\u001b[0m\u001b[0;34m(\u001b[0m\u001b[0;34m)\u001b[0m\u001b[0;34m\u001b[0m\u001b[0;34m\u001b[0m\u001b[0m\n\u001b[1;32m    216\u001b[0m                     \u001b[0mkwargs\u001b[0m\u001b[0;34m[\u001b[0m\u001b[0;34m\"mode\"\u001b[0m\u001b[0;34m]\u001b[0m \u001b[0;34m=\u001b[0m \u001b[0mself\u001b[0m\u001b[0;34m.\u001b[0m\u001b[0m_mode\u001b[0m\u001b[0;34m\u001b[0m\u001b[0;34m\u001b[0m\u001b[0m\n\u001b[0;32m--> 217\u001b[0;31m                 \u001b[0mfile\u001b[0m \u001b[0;34m=\u001b[0m \u001b[0mself\u001b[0m\u001b[0;34m.\u001b[0m\u001b[0m_opener\u001b[0m\u001b[0;34m(\u001b[0m\u001b[0;34m*\u001b[0m\u001b[0mself\u001b[0m\u001b[0;34m.\u001b[0m\u001b[0m_args\u001b[0m\u001b[0;34m,\u001b[0m \u001b[0;34m**\u001b[0m\u001b[0mkwargs\u001b[0m\u001b[0;34m)\u001b[0m\u001b[0;34m\u001b[0m\u001b[0;34m\u001b[0m\u001b[0m\n\u001b[0m\u001b[1;32m    218\u001b[0m                 \u001b[0;32mif\u001b[0m \u001b[0mself\u001b[0m\u001b[0;34m.\u001b[0m\u001b[0m_mode\u001b[0m \u001b[0;34m==\u001b[0m \u001b[0;34m\"w\"\u001b[0m\u001b[0;34m:\u001b[0m\u001b[0;34m\u001b[0m\u001b[0;34m\u001b[0m\u001b[0m\n\u001b[1;32m    219\u001b[0m                     \u001b[0;31m# ensure file doesn't get overridden when opened again\u001b[0m\u001b[0;34m\u001b[0m\u001b[0;34m\u001b[0m\u001b[0m\n",
            "\u001b[0;32msrc/netCDF4/_netCDF4.pyx\u001b[0m in \u001b[0;36mnetCDF4._netCDF4.Dataset.__init__\u001b[0;34m()\u001b[0m\n",
            "\u001b[0;32msrc/netCDF4/_netCDF4.pyx\u001b[0m in \u001b[0;36mnetCDF4._netCDF4._ensure_nc_success\u001b[0;34m()\u001b[0m\n",
            "\u001b[0;31mFileNotFoundError\u001b[0m: [Errno 2] No such file or directory: '/content/L1_combined.nc'"
          ]
        }
      ]
    },
    {
      "cell_type": "code",
      "source": [
        "L1 = L1[['AirTC', 'WS', 'Slrw']]\n",
        "L2_v0 = L2_v0[['surfacetemp']]\n",
        "L2_v1 = L2_v1[['surfacetemp']]\n",
        "L2_v2 = L2_v2[['surfacetemp']]\n",
        "\n",
        "l1_timeindices = L1.time.values\n",
        "l2_v0_timeindices = L2_v0.time.values\n",
        "l2_v1_timeindices = L2_v1.time.values\n",
        "l2_v2_timeindices = L2_v2.time.values"
      ],
      "metadata": {
        "id": "y0KliUXxbn8f"
      },
      "execution_count": null,
      "outputs": []
    },
    {
      "cell_type": "code",
      "source": [
        "# Take away double values for one timestep for L1\n",
        "unique_vals, unique_idxs = np.unique(l1_timeindices, return_inverse=True)\n",
        "unique_counts = np.bincount(unique_idxs)\n",
        "count_mask = unique_counts > 1\n",
        "dup_values = unique_vals[count_mask]\n",
        "bool_mask = np.isin(L1.time, dup_values)\n",
        "\n",
        "L1 = L1.isel(time=~bool_mask)"
      ],
      "metadata": {
        "id": "JrNLe24Mbn37"
      },
      "execution_count": null,
      "outputs": []
    },
    {
      "cell_type": "code",
      "source": [
        "# Take away double values for one timestep for L2_v0\n",
        "unique_vals, unique_idxs = np.unique(l2_v0_timeindices, return_inverse=True)\n",
        "unique_counts = np.bincount(unique_idxs)\n",
        "count_mask = unique_counts > 1\n",
        "dup_values = unique_vals[count_mask]\n",
        "bool_mask = np.isin(L2_v0.time, dup_values)\n",
        "\n",
        "L2_v0 = L2_v0.isel(time=~bool_mask)"
      ],
      "metadata": {
        "id": "dxzwu1Brbnyg"
      },
      "execution_count": null,
      "outputs": []
    },
    {
      "cell_type": "code",
      "source": [
        "# Take away double values for one timestep for L2_v1\n",
        "unique_vals, unique_idxs = np.unique(l2_v1_timeindices, return_inverse=True)\n",
        "unique_counts = np.bincount(unique_idxs)\n",
        "count_mask = unique_counts > 1\n",
        "dup_values = unique_vals[count_mask]\n",
        "bool_mask = np.isin(L2_v1.time, dup_values)\n",
        "\n",
        "L2_v1 = L2_v1.isel(time=~bool_mask)"
      ],
      "metadata": {
        "id": "sT2Mwo6bmiqN"
      },
      "execution_count": null,
      "outputs": []
    },
    {
      "cell_type": "code",
      "source": [
        "# Take away double values for one timestep for L2_v2\n",
        "unique_vals, unique_idxs = np.unique(l2_v2_timeindices, return_inverse=True)\n",
        "unique_counts = np.bincount(unique_idxs)\n",
        "count_mask = unique_counts > 1\n",
        "dup_values = unique_vals[count_mask]\n",
        "bool_mask = np.isin(L2_v2.time, dup_values)\n",
        "\n",
        "L2_v2 = L2_v2.isel(time=~bool_mask)"
      ],
      "metadata": {
        "id": "7a1y3itWmimV"
      },
      "execution_count": null,
      "outputs": []
    },
    {
      "cell_type": "code",
      "source": [
        "merged_ds = xr.merge([L1, L2_v0, L2_v1, L2_v2])"
      ],
      "metadata": {
        "id": "01N2A-oDbnoQ"
      },
      "execution_count": null,
      "outputs": []
    },
    {
      "cell_type": "markdown",
      "source": [
        "Random forest model"
      ],
      "metadata": {
        "id": "GHZDGAkoou6_"
      }
    },
    {
      "cell_type": "code",
      "source": [
        "import numpy as np\n",
        "import pandas as pd\n",
        "from sklearn.ensemble import RandomForestRegressor\n",
        "from sklearn.model_selection import train_test_split\n",
        "from sklearn.metrics import mean_squared_error, r2_score\n",
        "import matplotlib.pyplot as plt\n",
        "\n",
        "# Charger les données (partant du tableau `meteo`)\n",
        "# Ajouter une variable fictive \"water_temp\" pour la démonstration\n",
        "np.random.seed(42)  # Pour des résultats reproductibles\n",
        "meteo = np.array(\n",
        "    merged_ds(zip(meteo['AirTC'], meteo['SlrW'], meteo['WS'], np.random.uniform(10, 20, len(meteo)))),\n",
        "    dtype=[('AirTC', 'f4'), ('SlrW', 'f4'), ('WS', 'f4'), ('water_temp', 'f4')]\n",
        ")\n"
      ],
      "metadata": {
        "id": "JDcGArfx074x"
      },
      "execution_count": null,
      "outputs": []
    },
    {
      "cell_type": "code",
      "source": [
        "# Variables explicatives (features) et variable cible\n",
        "X = np.vstack((meteo['AirTC'], meteo['SlrW'], meteo['WS'])).T\n",
        "y = meteo['water_temp']"
      ],
      "metadata": {
        "id": "Ubz8uCny3h9z"
      },
      "execution_count": null,
      "outputs": []
    },
    {
      "cell_type": "code",
      "source": [
        "# Diviser les données en ensembles 3/5 entraînement, 1/5 validation, 1/5 test\n",
        "n_samples = len(X)\n",
        "train_size = int(n_samples * 3 / 5)\n",
        "val_size = int(n_samples * 1 / 5)\n",
        "\n",
        "X_train, X_val, X_test = X[:train_size], X[train_size:train_size+val_size], X[train_size+val_size:]\n",
        "y_train, y_val, y_test = y[:train_size], y[train_size:train_size+val_size], y[train_size+val_size:]\n",
        "\n",
        "# Vérifier les tailles des ensembles\n",
        "print(f\"Taille des ensembles :\")\n",
        "print(f\"Entraînement : {len(X_train)}, Validation : {len(X_val)}, Test : {len(X_test)}\")"
      ],
      "metadata": {
        "id": "EqEWi3wu3h7K"
      },
      "execution_count": null,
      "outputs": []
    },
    {
      "cell_type": "code",
      "source": [
        "# Créer et entraîner le modèle Random Forest\n",
        "rf_model = RandomForestRegressor(n_estimators=100, random_state=42)\n",
        "rf_model.fit(X_train, y_train)\n",
        "\n",
        "# Évaluer le modèle sur l'ensemble de validation\n",
        "y_val_pred = rf_model.predict(X_val)\n",
        "val_rmse = mean_squared_error(y_val, y_val_pred, squared=False)\n",
        "val_r2 = r2_score(y_val, y_val_pred)\n",
        "print(f\"Validation - RMSE : {val_rmse:.3f}, R² : {val_r2:.3f}\")"
      ],
      "metadata": {
        "id": "efWamGY83h4f"
      },
      "execution_count": null,
      "outputs": []
    },
    {
      "cell_type": "code",
      "source": [
        "# Tester le modèle sur l'ensemble de test\n",
        "y_test_pred = rf_model.predict(X_test)\n",
        "test_rmse = mean_squared_error(y_test, y_test_pred, squared=False)\n",
        "test_r2 = r2_score(y_test, y_test_pred)\n",
        "print(f\"Test - RMSE : {test_rmse:.3f}, R² : {test_r2:.3f}\")"
      ],
      "metadata": {
        "id": "Eq0vm6GX3h1n"
      },
      "execution_count": null,
      "outputs": []
    },
    {
      "cell_type": "code",
      "source": [
        "# Visualiser les performances sur l'ensemble de test\n",
        "plt.figure(figsize=(8, 6))\n",
        "plt.scatter(y_test, y_test_pred, alpha=0.7, label=\"Prédictions vs Réel\")\n",
        "plt.plot([min(y_test), max(y_test)], [min(y_test), max(y_test)], '--r', label=\"Idéal\")\n",
        "plt.xlabel(\"Valeurs réelles (°C)\")\n",
        "plt.ylabel(\"Valeurs prédites (°C)\")\n",
        "plt.title(\"Prédiction de la température de l'eau - Ensemble de test\")\n",
        "plt.legend()\n",
        "plt.show()"
      ],
      "metadata": {
        "id": "9J26a54zslMJ"
      },
      "execution_count": null,
      "outputs": []
    },
    {
      "cell_type": "code",
      "source": [],
      "metadata": {
        "id": "m2aU4j_JslJi"
      },
      "execution_count": null,
      "outputs": []
    },
    {
      "cell_type": "code",
      "source": [],
      "metadata": {
        "id": "Z6f9hQxtslG6"
      },
      "execution_count": null,
      "outputs": []
    },
    {
      "cell_type": "code",
      "source": [],
      "metadata": {
        "id": "Xs5oQj3Jsk9g"
      },
      "execution_count": null,
      "outputs": []
    },
    {
      "cell_type": "code",
      "source": [],
      "metadata": {
        "id": "86jwLqcrsk0Z"
      },
      "execution_count": null,
      "outputs": []
    },
    {
      "cell_type": "code",
      "source": [],
      "metadata": {
        "id": "Pp4etjpqskrD"
      },
      "execution_count": null,
      "outputs": []
    }
  ]
}