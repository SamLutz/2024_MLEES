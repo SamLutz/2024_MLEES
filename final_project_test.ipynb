{
  "nbformat": 4,
  "nbformat_minor": 0,
  "metadata": {
    "colab": {
      "provenance": [],
      "authorship_tag": "ABX9TyNRZ/OeWbTggIkOa09QOqa7",
      "include_colab_link": true
    },
    "kernelspec": {
      "name": "python3",
      "display_name": "Python 3"
    },
    "language_info": {
      "name": "python"
    }
  },
  "cells": [
    {
      "cell_type": "markdown",
      "metadata": {
        "id": "view-in-github",
        "colab_type": "text"
      },
      "source": [
        "<a href=\"https://colab.research.google.com/github/SamLutz/2024_MLEES/blob/main/final_project_test.ipynb\" target=\"_parent\"><img src=\"https://colab.research.google.com/assets/colab-badge.svg\" alt=\"Open In Colab\"/></a>"
      ]
    },
    {
      "cell_type": "markdown",
      "source": [
        "Final Project MLEES SA24\n"
      ],
      "metadata": {
        "id": "2XxCRrYUaj-t"
      }
    },
    {
      "cell_type": "code",
      "source": [
        "!pip install netCDF4\n",
        "!pip install xarray\n",
        "import os\n",
        "import numpy as np\n",
        "import xarray as xr\n",
        "from netCDF4 import Dataset\n",
        "from datetime import datetime\n",
        "import pooch\n",
        "import netCDF4 as nc\n",
        "import matplotlib.pyplot as plt"
      ],
      "metadata": {
        "id": "ERnqwLgpQQwH",
        "outputId": "15fd7d5f-8de3-4307-fb8d-f0e348c5354f",
        "colab": {
          "base_uri": "https://localhost:8080/"
        },
        "collapsed": true
      },
      "execution_count": 3,
      "outputs": [
        {
          "output_type": "stream",
          "name": "stdout",
          "text": [
            "Collecting netCDF4\n",
            "  Downloading netCDF4-1.7.2-cp310-cp310-manylinux_2_17_x86_64.manylinux2014_x86_64.whl.metadata (1.8 kB)\n",
            "Collecting cftime (from netCDF4)\n",
            "  Downloading cftime-1.6.4.post1-cp310-cp310-manylinux_2_17_x86_64.manylinux2014_x86_64.whl.metadata (8.7 kB)\n",
            "Requirement already satisfied: certifi in /usr/local/lib/python3.10/dist-packages (from netCDF4) (2024.8.30)\n",
            "Requirement already satisfied: numpy in /usr/local/lib/python3.10/dist-packages (from netCDF4) (1.26.4)\n",
            "Downloading netCDF4-1.7.2-cp310-cp310-manylinux_2_17_x86_64.manylinux2014_x86_64.whl (9.1 MB)\n",
            "\u001b[2K   \u001b[90m━━━━━━━━━━━━━━━━━━━━━━━━━━━━━━━━━━━━━━━━\u001b[0m \u001b[32m9.1/9.1 MB\u001b[0m \u001b[31m43.9 MB/s\u001b[0m eta \u001b[36m0:00:00\u001b[0m\n",
            "\u001b[?25hDownloading cftime-1.6.4.post1-cp310-cp310-manylinux_2_17_x86_64.manylinux2014_x86_64.whl (1.3 MB)\n",
            "\u001b[2K   \u001b[90m━━━━━━━━━━━━━━━━━━━━━━━━━━━━━━━━━━━━━━━━\u001b[0m \u001b[32m1.3/1.3 MB\u001b[0m \u001b[31m62.9 MB/s\u001b[0m eta \u001b[36m0:00:00\u001b[0m\n",
            "\u001b[?25hInstalling collected packages: cftime, netCDF4\n",
            "Successfully installed cftime-1.6.4.post1 netCDF4-1.7.2\n",
            "Requirement already satisfied: xarray in /usr/local/lib/python3.10/dist-packages (2024.10.0)\n",
            "Requirement already satisfied: numpy>=1.24 in /usr/local/lib/python3.10/dist-packages (from xarray) (1.26.4)\n",
            "Requirement already satisfied: packaging>=23.1 in /usr/local/lib/python3.10/dist-packages (from xarray) (24.2)\n",
            "Requirement already satisfied: pandas>=2.1 in /usr/local/lib/python3.10/dist-packages (from xarray) (2.2.2)\n",
            "Requirement already satisfied: python-dateutil>=2.8.2 in /usr/local/lib/python3.10/dist-packages (from pandas>=2.1->xarray) (2.8.2)\n",
            "Requirement already satisfied: pytz>=2020.1 in /usr/local/lib/python3.10/dist-packages (from pandas>=2.1->xarray) (2024.2)\n",
            "Requirement already satisfied: tzdata>=2022.7 in /usr/local/lib/python3.10/dist-packages (from pandas>=2.1->xarray) (2024.2)\n",
            "Requirement already satisfied: six>=1.5 in /usr/local/lib/python3.10/dist-packages (from python-dateutil>=2.8.2->pandas>=2.1->xarray) (1.16.0)\n"
          ]
        }
      ]
    },
    {
      "cell_type": "markdown",
      "source": [
        "Download data from Onedrive with Pooch\n"
      ],
      "metadata": {
        "id": "Ia_UhGsY43ty"
      }
    },
    {
      "cell_type": "code",
      "source": [
        "# Liste des fichiers OneDrive avec leurs URL\n",
        "files_urls = [\n",
        "    'https://unils-my.sharepoint.com/:u:/g/personal/samuel_lutz_unil_ch/Efe70_k3wXJHnrbYK9h1uBwBUgNCzc5_24r73e1xETG0ug?download=1',\n",
        "    'https://unils-my.sharepoint.com/:u:/g/personal/samuel_lutz_unil_ch/EWAfM2fXmJBEiCTivTpZlCEBa5sKr-6SGX8M27JoblF3Tg?download=1',\n",
        "    'https://unils-my.sharepoint.com/:u:/g/personal/samuel_lutz_unil_ch/ESbZRJJ1jSlCuRxFQTeXxmEBJ8yD8u42W8cjlNVbeh4CCw?download=1',\n",
        "    'https://unils-my.sharepoint.com/:u:/g/personal/samuel_lutz_unil_ch/ERypBJ2Dpi1LgIYALQoJFhoBHpjHhC5Ygk85FmJ075y7uw?download=1',\n",
        "]\n",
        "\n",
        "# Hashed values des fichiers (facultatif, utiliser None si inconnu)\n",
        "hashes = [None] * len(files_urls)  # None pour tous les fichiers si tu ne connais pas leurs empreintes"
      ],
      "metadata": {
        "id": "bCldVZht0You"
      },
      "execution_count": 4,
      "outputs": []
    },
    {
      "cell_type": "code",
      "source": [
        "downloaded_files = []  # Liste pour stocker les chemins des fichiers téléchargés\n",
        "\n",
        "for url, file_hash in zip(files_urls, hashes):\n",
        "    # Télécharger chaque fichier\n",
        "    file_path = pooch.retrieve(url, known_hash=file_hash)\n",
        "    downloaded_files.append(file_path)\n",
        "\n",
        "print(\"Fichiers téléchargés :\", downloaded_files)"
      ],
      "metadata": {
        "collapsed": true,
        "id": "Gh1xui1t08OR",
        "outputId": "aa3206b1-3cfc-4b89-dd5f-4fe25a8572a3",
        "colab": {
          "base_uri": "https://localhost:8080/"
        }
      },
      "execution_count": 5,
      "outputs": [
        {
          "output_type": "stream",
          "name": "stderr",
          "text": [
            "Downloading data from 'https://unils-my.sharepoint.com/:u:/g/personal/samuel_lutz_unil_ch/Efe70_k3wXJHnrbYK9h1uBwBUgNCzc5_24r73e1xETG0ug?download=1' to file '/root/.cache/pooch/eeebeae5c5966a8643cbec3a97f28bca-Efe70_k3wXJHnrbYK9h1uBwBUgNCzc5_24r73e1xETG0ug'.\n",
            "SHA256 hash of downloaded file: ed7070a75e387b8a58b6aaea243f0bb48c9c7722c65c694c11f62bad24c2ebc1\n",
            "Use this value as the 'known_hash' argument of 'pooch.retrieve' to ensure that the file hasn't changed if it is downloaded again in the future.\n",
            "Downloading data from 'https://unils-my.sharepoint.com/:u:/g/personal/samuel_lutz_unil_ch/EWAfM2fXmJBEiCTivTpZlCEBa5sKr-6SGX8M27JoblF3Tg?download=1' to file '/root/.cache/pooch/15e08fe31f9592ff42cc7caecb0b9267-EWAfM2fXmJBEiCTivTpZlCEBa5sKr-6SGX8M27JoblF3Tg'.\n",
            "SHA256 hash of downloaded file: 11b06a7ded09e4b6bd492b4691364871c1457610f096eb654c41711dcf4ea001\n",
            "Use this value as the 'known_hash' argument of 'pooch.retrieve' to ensure that the file hasn't changed if it is downloaded again in the future.\n",
            "Downloading data from 'https://unils-my.sharepoint.com/:u:/g/personal/samuel_lutz_unil_ch/ESbZRJJ1jSlCuRxFQTeXxmEBJ8yD8u42W8cjlNVbeh4CCw?download=1' to file '/root/.cache/pooch/34af5befd86ba7cc499434f6c106d34a-ESbZRJJ1jSlCuRxFQTeXxmEBJ8yD8u42W8cjlNVbeh4CCw'.\n",
            "SHA256 hash of downloaded file: 03b7d4402715cff1a26b748d0e4df5338ef28dd7e0a3c20ab758155d8bcc234a\n",
            "Use this value as the 'known_hash' argument of 'pooch.retrieve' to ensure that the file hasn't changed if it is downloaded again in the future.\n",
            "Downloading data from 'https://unils-my.sharepoint.com/:u:/g/personal/samuel_lutz_unil_ch/ERypBJ2Dpi1LgIYALQoJFhoBHpjHhC5Ygk85FmJ075y7uw?download=1' to file '/root/.cache/pooch/364252904277340c3a219805eacf226a-ERypBJ2Dpi1LgIYALQoJFhoBHpjHhC5Ygk85FmJ075y7uw'.\n",
            "SHA256 hash of downloaded file: 5e35b275b7b3879558b5e604760e8a904e01f2fe83ee3ee1f6d977aba6a47ac1\n",
            "Use this value as the 'known_hash' argument of 'pooch.retrieve' to ensure that the file hasn't changed if it is downloaded again in the future.\n"
          ]
        },
        {
          "output_type": "stream",
          "name": "stdout",
          "text": [
            "Fichiers téléchargés : ['/root/.cache/pooch/eeebeae5c5966a8643cbec3a97f28bca-Efe70_k3wXJHnrbYK9h1uBwBUgNCzc5_24r73e1xETG0ug', '/root/.cache/pooch/15e08fe31f9592ff42cc7caecb0b9267-EWAfM2fXmJBEiCTivTpZlCEBa5sKr-6SGX8M27JoblF3Tg', '/root/.cache/pooch/34af5befd86ba7cc499434f6c106d34a-ESbZRJJ1jSlCuRxFQTeXxmEBJ8yD8u42W8cjlNVbeh4CCw', '/root/.cache/pooch/364252904277340c3a219805eacf226a-ERypBJ2Dpi1LgIYALQoJFhoBHpjHhC5Ygk85FmJ075y7uw']\n"
          ]
        }
      ]
    },
    {
      "cell_type": "markdown",
      "source": [
        "Create a liste with all variables in data"
      ],
      "metadata": {
        "id": "r3YYWfGg5HAf"
      }
    },
    {
      "cell_type": "code",
      "source": [
        "# Liste pour stocker les variables de tous les fichiers\n",
        "all_variables = []\n",
        "\n",
        "for file_path in downloaded_files:\n",
        "    with nc.Dataset(file_path) as dataset:\n",
        "        print(f\"Fichier : {file_path}\")\n",
        "        print(\"Variables disponibles :\", dataset.variables.keys())\n",
        "        all_variables.append(dataset.variables.keys())\n"
      ],
      "metadata": {
        "collapsed": true,
        "id": "0o5uwGy308LN",
        "outputId": "50a2e301-ddc0-4a3d-9bc6-69e5856b50f9",
        "colab": {
          "base_uri": "https://localhost:8080/"
        }
      },
      "execution_count": 6,
      "outputs": [
        {
          "output_type": "stream",
          "name": "stdout",
          "text": [
            "Fichier : /root/.cache/pooch/eeebeae5c5966a8643cbec3a97f28bca-Efe70_k3wXJHnrbYK9h1uBwBUgNCzc5_24r73e1xETG0ug\n",
            "Variables disponibles : dict_keys(['Batt', 'Ptemp', 'AirTC', 'RH', 'Slrw', 'Slrm', 'WS', 'WindDir', 'Rain', 'BP', 'WindGust', 'time_qual', 'Batt_qual', 'Ptemp_qual', 'AirTC_qual', 'RH_qual', 'Slrw_qual', 'Slrm_qual', 'WS_qual', 'WindDir_qual', 'Rain_qual', 'BP_qual', 'WindGust_qual', 'time'])\n",
            "Fichier : /root/.cache/pooch/15e08fe31f9592ff42cc7caecb0b9267-EWAfM2fXmJBEiCTivTpZlCEBa5sKr-6SGX8M27JoblF3Tg\n",
            "Variables disponibles : dict_keys(['temp', 'surfacetemp', 'bottomtemp', 'mixed_layer_depth', 'thermocline_depth', 'schmidt_stability', 'heat_content', 'time', 'depth'])\n",
            "Fichier : /root/.cache/pooch/34af5befd86ba7cc499434f6c106d34a-ESbZRJJ1jSlCuRxFQTeXxmEBJ8yD8u42W8cjlNVbeh4CCw\n",
            "Variables disponibles : dict_keys(['temp', 'interp_temp', 'surfacetemp', 'bottomtemp', 'mixed_layer_depth', 'thermocline_depth', 'schmidt_stability', 'heat_content', 'time', 'depth'])\n",
            "Fichier : /root/.cache/pooch/364252904277340c3a219805eacf226a-ERypBJ2Dpi1LgIYALQoJFhoBHpjHhC5Ygk85FmJ075y7uw\n",
            "Variables disponibles : dict_keys(['temp', 'surfacetemp', 'bottomtemp', 'mixed_layer_depth', 'thermocline_depth', 'schmidt_stability', 'heat_content', 'time', 'depth'])\n"
          ]
        }
      ]
    },
    {
      "cell_type": "code",
      "source": [
        "# Charger tous les fichiers en tant que Dataset\n",
        "datasets = [xr.open_dataset(file) for file in downloaded_files]\n",
        "\n",
        "# Fusionner sur une dimension commune (par exemple \"time\")\n",
        "data = xr.concat(datasets, dim=\"time\")\n",
        "\n",
        "# Inspecter le résultat\n",
        "print(data)\n",
        "\n",
        "# Sauvegarder le résultat fusionné\n",
        "data.to_netcdf(\"data_merged.nc\")\n"
      ],
      "metadata": {
        "collapsed": true,
        "id": "feZC6CaO08IQ",
        "outputId": "bdc704ee-67c0-4c4d-ea2f-4a74664a1662",
        "colab": {
          "base_uri": "https://localhost:8080/"
        }
      },
      "execution_count": 8,
      "outputs": [
        {
          "output_type": "stream",
          "name": "stdout",
          "text": [
            "<xarray.Dataset> Size: 562MB\n",
            "Dimensions:            (time: 516443, depth: 53)\n",
            "Coordinates:\n",
            "  * time               (time) datetime64[ns] 4MB 2019-07-29T18:00:00 ... 2024...\n",
            "  * depth              (depth) float64 424B 0.25 0.5 0.75 1.0 ... 87.0 90.0 93.0\n",
            "Data variables: (12/31)\n",
            "    Batt               (time) float64 4MB 12.24 12.24 12.24 ... nan nan nan\n",
            "    Ptemp              (time) float64 4MB 30.39 29.73 29.1 28.74 ... nan nan nan\n",
            "    AirTC              (time) float64 4MB 23.39 23.31 23.43 ... nan nan nan\n",
            "    RH                 (time) float64 4MB 60.12 60.19 58.28 57.7 ... nan nan nan\n",
            "    Slrw               (time) float64 4MB 61.07 62.85 113.0 95.0 ... nan nan nan\n",
            "    Slrm               (time) float64 4MB 0.03664 0.03771 0.0678 ... nan nan nan\n",
            "    ...                 ...\n",
            "    bottomtemp         (time) float64 4MB nan nan nan nan ... 7.499 7.507 7.507\n",
            "    mixed_layer_depth  (time) float64 4MB nan nan nan nan ... 19.0 15.0 15.0\n",
            "    thermocline_depth  (time) float64 4MB nan nan nan nan ... 19.34 19.34 19.34\n",
            "    schmidt_stability  (time) float64 4MB nan nan nan ... 4.887e+03 4.887e+03\n",
            "    heat_content       (time) float64 4MB nan nan nan ... 2.879e+09 2.879e+09\n",
            "    interp_temp        (depth, time) float64 219MB nan nan nan ... nan nan nan\n",
            "Attributes:\n",
            "    institution:  EPFL\n",
            "    source:       Lexplore Weather station Campbell CR1000\n",
            "    references:   LéXPLORE commun instruments sebastien.lavanchy@epfl.ch\n",
            "    history:      See history on Renku\n",
            "    conventions:  CF 1.7\n",
            "    comment:      Data from the Meteostation on Lexplore Platform in Lake Geneva\n",
            "    title:        Lexplore Meteostation\n"
          ]
        }
      ]
    },
    {
      "cell_type": "code",
      "source": [
        "# Boucle sur les fichiers NetCDF téléchargés\n",
        "for file_path in downloaded_files:\n",
        "    # Ouvrir le fichier NetCDF\n",
        "    with Dataset(file_path, 'r') as nc_file:\n",
        "        # Extraire les variables\n",
        "        unix_time = nc_file.variables['time'][:]\n",
        "        air_temp = nc_file.variables['AirTC'][:]\n",
        "        solar_radiation = nc_file.variables['Slrw'][:]\n",
        "        wind_speed = nc_file.variables['WS'][:]\n",
        "\n",
        "        # Convertir le temps Unix en datetime\n",
        "        datetime_times = [datetime.utcfromtimestamp(t) for t in unix_time]\n",
        "\n",
        "        # Créer un tableau structuré avec les données\n",
        "        file_data = np.array(\n",
        "            list(zip(datetime_times, air_temp, solar_radiation, wind_speed)),\n",
        "            dtype=[('time', 'O'), ('AirTC', 'f4'), ('SlrW', 'f4'), ('WS', 'f4')]\n",
        "        )\n",
        "        # Ajouter les données extraites à la liste\n",
        "        all_variables.append(file_data)\n",
        "\n",
        "# Combiner toutes les données dans un seul tableau NumPy\n",
        "meteo = np.concatenate(all_variables)\n",
        "\n",
        "# Vérifier les contenus\n",
        "print(meteo[:5])  # Afficher les 5 premiers enregistrements\n"
      ],
      "metadata": {
        "id": "oGwmuaDK08Bg",
        "outputId": "8457b58c-b8b6-41f4-ca8c-2fd900b51462",
        "colab": {
          "base_uri": "https://localhost:8080/",
          "height": 251
        }
      },
      "execution_count": 11,
      "outputs": [
        {
          "output_type": "stream",
          "name": "stderr",
          "text": [
            "<ipython-input-11-b19ab0e74c47>:15: UserWarning: Warning: converting a masked element to nan.\n",
            "  file_data = np.array(\n"
          ]
        },
        {
          "output_type": "error",
          "ename": "KeyError",
          "evalue": "'AirTC'",
          "traceback": [
            "\u001b[0;31m---------------------------------------------------------------------------\u001b[0m",
            "\u001b[0;31mKeyError\u001b[0m                                  Traceback (most recent call last)",
            "\u001b[0;32m<ipython-input-11-b19ab0e74c47>\u001b[0m in \u001b[0;36m<cell line: 2>\u001b[0;34m()\u001b[0m\n\u001b[1;32m      5\u001b[0m         \u001b[0;31m# Extraire les variables\u001b[0m\u001b[0;34m\u001b[0m\u001b[0;34m\u001b[0m\u001b[0m\n\u001b[1;32m      6\u001b[0m         \u001b[0munix_time\u001b[0m \u001b[0;34m=\u001b[0m \u001b[0mnc_file\u001b[0m\u001b[0;34m.\u001b[0m\u001b[0mvariables\u001b[0m\u001b[0;34m[\u001b[0m\u001b[0;34m'time'\u001b[0m\u001b[0;34m]\u001b[0m\u001b[0;34m[\u001b[0m\u001b[0;34m:\u001b[0m\u001b[0;34m]\u001b[0m\u001b[0;34m\u001b[0m\u001b[0;34m\u001b[0m\u001b[0m\n\u001b[0;32m----> 7\u001b[0;31m         \u001b[0mair_temp\u001b[0m \u001b[0;34m=\u001b[0m \u001b[0mnc_file\u001b[0m\u001b[0;34m.\u001b[0m\u001b[0mvariables\u001b[0m\u001b[0;34m[\u001b[0m\u001b[0;34m'AirTC'\u001b[0m\u001b[0;34m]\u001b[0m\u001b[0;34m[\u001b[0m\u001b[0;34m:\u001b[0m\u001b[0;34m]\u001b[0m\u001b[0;34m\u001b[0m\u001b[0;34m\u001b[0m\u001b[0m\n\u001b[0m\u001b[1;32m      8\u001b[0m         \u001b[0msolar_radiation\u001b[0m \u001b[0;34m=\u001b[0m \u001b[0mnc_file\u001b[0m\u001b[0;34m.\u001b[0m\u001b[0mvariables\u001b[0m\u001b[0;34m[\u001b[0m\u001b[0;34m'Slrw'\u001b[0m\u001b[0;34m]\u001b[0m\u001b[0;34m[\u001b[0m\u001b[0;34m:\u001b[0m\u001b[0;34m]\u001b[0m\u001b[0;34m\u001b[0m\u001b[0;34m\u001b[0m\u001b[0m\n\u001b[1;32m      9\u001b[0m         \u001b[0mwind_speed\u001b[0m \u001b[0;34m=\u001b[0m \u001b[0mnc_file\u001b[0m\u001b[0;34m.\u001b[0m\u001b[0mvariables\u001b[0m\u001b[0;34m[\u001b[0m\u001b[0;34m'WS'\u001b[0m\u001b[0;34m]\u001b[0m\u001b[0;34m[\u001b[0m\u001b[0;34m:\u001b[0m\u001b[0;34m]\u001b[0m\u001b[0;34m\u001b[0m\u001b[0;34m\u001b[0m\u001b[0m\n",
            "\u001b[0;31mKeyError\u001b[0m: 'AirTC'"
          ]
        }
      ]
    },
    {
      "cell_type": "markdown",
      "source": [
        "Random forest model"
      ],
      "metadata": {
        "id": "omZbjIh_8KOB"
      }
    },
    {
      "cell_type": "code",
      "source": [
        "import numpy as np\n",
        "from sklearn.ensemble import RandomForestRegressor\n",
        "from sklearn.model_selection import train_test_split\n",
        "from sklearn.metrics import mean_squared_error, r2_score\n",
        "import matplotlib.pyplot as plt\n",
        "\n",
        "# Charger les données (partant du tableau `meteo`)\n",
        "# Ajouter une variable fictive \"water_temp\" pour la démonstration\n",
        "np.random.seed(42)  # Pour des résultats reproductibles\n",
        "meteo = np.array(\n",
        "    list(zip(meteo['AirTC'], meteo['SlrW'], meteo['WS'], np.random.uniform(10, 20, len(meteo)))),\n",
        "    dtype=[('AirTC', 'f4'), ('SlrW', 'f4'), ('WS', 'f4'), ('water_temp', 'f4')]\n",
        ")\n"
      ],
      "metadata": {
        "id": "JDcGArfx074x"
      },
      "execution_count": null,
      "outputs": []
    },
    {
      "cell_type": "code",
      "source": [
        "# Variables explicatives (features) et variable cible\n",
        "X = np.vstack((meteo['AirTC'], meteo['SlrW'], meteo['WS'])).T\n",
        "y = meteo['water_temp']"
      ],
      "metadata": {
        "id": "Ubz8uCny3h9z"
      },
      "execution_count": null,
      "outputs": []
    },
    {
      "cell_type": "code",
      "source": [
        "# Diviser les données en ensembles 3/5 entraînement, 1/5 validation, 1/5 test\n",
        "n_samples = len(X)\n",
        "train_size = int(n_samples * 3 / 5)\n",
        "val_size = int(n_samples * 1 / 5)\n",
        "\n",
        "X_train, X_val, X_test = X[:train_size], X[train_size:train_size+val_size], X[train_size+val_size:]\n",
        "y_train, y_val, y_test = y[:train_size], y[train_size:train_size+val_size], y[train_size+val_size:]\n",
        "\n",
        "# Vérifier les tailles des ensembles\n",
        "print(f\"Taille des ensembles :\")\n",
        "print(f\"Entraînement : {len(X_train)}, Validation : {len(X_val)}, Test : {len(X_test)}\")"
      ],
      "metadata": {
        "id": "EqEWi3wu3h7K"
      },
      "execution_count": null,
      "outputs": []
    },
    {
      "cell_type": "code",
      "source": [
        "# Créer et entraîner le modèle Random Forest\n",
        "rf_model = RandomForestRegressor(n_estimators=100, random_state=42)\n",
        "rf_model.fit(X_train, y_train)\n",
        "\n",
        "# Évaluer le modèle sur l'ensemble de validation\n",
        "y_val_pred = rf_model.predict(X_val)\n",
        "val_rmse = mean_squared_error(y_val, y_val_pred, squared=False)\n",
        "val_r2 = r2_score(y_val, y_val_pred)\n",
        "print(f\"Validation - RMSE : {val_rmse:.3f}, R² : {val_r2:.3f}\")"
      ],
      "metadata": {
        "id": "efWamGY83h4f"
      },
      "execution_count": null,
      "outputs": []
    },
    {
      "cell_type": "code",
      "source": [
        "# Tester le modèle sur l'ensemble de test\n",
        "y_test_pred = rf_model.predict(X_test)\n",
        "test_rmse = mean_squared_error(y_test, y_test_pred, squared=False)\n",
        "test_r2 = r2_score(y_test, y_test_pred)\n",
        "print(f\"Test - RMSE : {test_rmse:.3f}, R² : {test_r2:.3f}\")\n",
        "\n",
        "# Visualiser les performances sur l'ensemble de test\n",
        "plt.figure(figsize=(8, 6))\n",
        "plt.scatter(y_test, y_test_pred, alpha=0.7, label=\"Prédictions vs Réel\")\n",
        "plt.plot([min(y_test), max(y_test)], [min(y_test), max(y_test)], '--r', label=\"Idéal\")\n",
        "plt.xlabel(\"Valeurs réelles (°C)\")\n",
        "plt.ylabel(\"Valeurs prédites (°C)\")\n",
        "plt.title(\"Prédiction de la température de l'eau - Ensemble de test\")\n",
        "plt.legend()\n",
        "plt.show()"
      ],
      "metadata": {
        "id": "Eq0vm6GX3h1n"
      },
      "execution_count": null,
      "outputs": []
    },
    {
      "cell_type": "code",
      "source": [],
      "metadata": {
        "id": "aTP5EQBlzrs-"
      },
      "execution_count": null,
      "outputs": []
    },
    {
      "cell_type": "code",
      "source": [],
      "metadata": {
        "id": "9J26a54zslMJ"
      },
      "execution_count": null,
      "outputs": []
    },
    {
      "cell_type": "code",
      "source": [],
      "metadata": {
        "id": "m2aU4j_JslJi"
      },
      "execution_count": null,
      "outputs": []
    },
    {
      "cell_type": "code",
      "source": [],
      "metadata": {
        "id": "Z6f9hQxtslG6"
      },
      "execution_count": null,
      "outputs": []
    },
    {
      "cell_type": "code",
      "source": [],
      "metadata": {
        "id": "Xs5oQj3Jsk9g"
      },
      "execution_count": null,
      "outputs": []
    },
    {
      "cell_type": "code",
      "source": [],
      "metadata": {
        "id": "86jwLqcrsk0Z"
      },
      "execution_count": null,
      "outputs": []
    },
    {
      "cell_type": "code",
      "source": [],
      "metadata": {
        "id": "Pp4etjpqskrD"
      },
      "execution_count": null,
      "outputs": []
    }
  ]
}