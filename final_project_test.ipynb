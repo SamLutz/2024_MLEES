{
  "nbformat": 4,
  "nbformat_minor": 0,
  "metadata": {
    "colab": {
      "provenance": [],
      "authorship_tag": "ABX9TyPogzhKjOo4btLbdDfaBRUf",
      "include_colab_link": true
    },
    "kernelspec": {
      "name": "python3",
      "display_name": "Python 3"
    },
    "language_info": {
      "name": "python"
    }
  },
  "cells": [
    {
      "cell_type": "markdown",
      "metadata": {
        "id": "view-in-github",
        "colab_type": "text"
      },
      "source": [
        "<a href=\"https://colab.research.google.com/github/SamLutz/2024_MLEES/blob/main/final_project_test.ipynb\" target=\"_parent\"><img src=\"https://colab.research.google.com/assets/colab-badge.svg\" alt=\"Open In Colab\"/></a>"
      ]
    },
    {
      "cell_type": "markdown",
      "source": [
        "Final Project MLEES SA24\n"
      ],
      "metadata": {
        "id": "2XxCRrYUaj-t"
      }
    },
    {
      "cell_type": "code",
      "source": [
        "!pip install netCDF4\n",
        "!pip install xarray\n",
        "import os\n",
        "import numpy as np\n",
        "import xarray as xr\n",
        "from netCDF4 import Dataset\n",
        "from datetime import datetime\n",
        "import pooch\n",
        "import netCDF4 as nc\n",
        "import matplotlib.pyplot as plt"
      ],
      "metadata": {
        "id": "ERnqwLgpQQwH",
        "outputId": "52b2bd54-cbe3-4bf8-fbfe-e4163ce3a5a3",
        "colab": {
          "base_uri": "https://localhost:8080/"
        },
        "collapsed": true
      },
      "execution_count": null,
      "outputs": [
        {
          "output_type": "stream",
          "name": "stdout",
          "text": [
            "Collecting netCDF4\n",
            "  Downloading netCDF4-1.7.2-cp310-cp310-manylinux_2_17_x86_64.manylinux2014_x86_64.whl.metadata (1.8 kB)\n",
            "Collecting cftime (from netCDF4)\n",
            "  Downloading cftime-1.6.4.post1-cp310-cp310-manylinux_2_17_x86_64.manylinux2014_x86_64.whl.metadata (8.7 kB)\n",
            "Requirement already satisfied: certifi in /usr/local/lib/python3.10/dist-packages (from netCDF4) (2024.8.30)\n",
            "Requirement already satisfied: numpy in /usr/local/lib/python3.10/dist-packages (from netCDF4) (1.26.4)\n",
            "Downloading netCDF4-1.7.2-cp310-cp310-manylinux_2_17_x86_64.manylinux2014_x86_64.whl (9.1 MB)\n",
            "\u001b[2K   \u001b[90m━━━━━━━━━━━━━━━━━━━━━━━━━━━━━━━━━━━━━━━━\u001b[0m \u001b[32m9.1/9.1 MB\u001b[0m \u001b[31m38.7 MB/s\u001b[0m eta \u001b[36m0:00:00\u001b[0m\n",
            "\u001b[?25hDownloading cftime-1.6.4.post1-cp310-cp310-manylinux_2_17_x86_64.manylinux2014_x86_64.whl (1.3 MB)\n",
            "\u001b[2K   \u001b[90m━━━━━━━━━━━━━━━━━━━━━━━━━━━━━━━━━━━━━━━━\u001b[0m \u001b[32m1.3/1.3 MB\u001b[0m \u001b[31m33.9 MB/s\u001b[0m eta \u001b[36m0:00:00\u001b[0m\n",
            "\u001b[?25hInstalling collected packages: cftime, netCDF4\n",
            "Successfully installed cftime-1.6.4.post1 netCDF4-1.7.2\n",
            "Requirement already satisfied: xarray in /usr/local/lib/python3.10/dist-packages (2024.10.0)\n",
            "Requirement already satisfied: numpy>=1.24 in /usr/local/lib/python3.10/dist-packages (from xarray) (1.26.4)\n",
            "Requirement already satisfied: packaging>=23.1 in /usr/local/lib/python3.10/dist-packages (from xarray) (24.2)\n",
            "Requirement already satisfied: pandas>=2.1 in /usr/local/lib/python3.10/dist-packages (from xarray) (2.2.2)\n",
            "Requirement already satisfied: python-dateutil>=2.8.2 in /usr/local/lib/python3.10/dist-packages (from pandas>=2.1->xarray) (2.8.2)\n",
            "Requirement already satisfied: pytz>=2020.1 in /usr/local/lib/python3.10/dist-packages (from pandas>=2.1->xarray) (2024.2)\n",
            "Requirement already satisfied: tzdata>=2022.7 in /usr/local/lib/python3.10/dist-packages (from pandas>=2.1->xarray) (2024.2)\n",
            "Requirement already satisfied: six>=1.5 in /usr/local/lib/python3.10/dist-packages (from python-dateutil>=2.8.2->pandas>=2.1->xarray) (1.16.0)\n"
          ]
        }
      ]
    },
    {
      "cell_type": "code",
      "source": [
        "# Retrieve the files from the cloud using Pooch.\n",
        "data_url = 'https://unils-my.sharepoint.com/:u:/g/personal/samuel_lutz_unil_ch/Efe70_k3wXJHnrbYK9h1uBwBUgNCzc5_24r73e1xETG0ug?download=1'\n",
        "\n",
        "hash = None\n",
        "files = pooch.retrieve(data_url, known_hash=hash)\n",
        "# Directory containing the NetCDF files\n",
        "data = nc.Dataset(files)\n",
        "# Prepare a list to store data from all files\n",
        "data.variables.keys()\n"
      ],
      "metadata": {
        "id": "Wc9L3EjwQQbX",
        "colab": {
          "base_uri": "https://localhost:8080/"
        },
        "outputId": "1f78dd33-6c80-409f-8250-b5f8cdd18a98"
      },
      "execution_count": null,
      "outputs": [
        {
          "output_type": "stream",
          "name": "stderr",
          "text": [
            "Downloading data from 'https://unils-my.sharepoint.com/:u:/g/personal/samuel_lutz_unil_ch/Efe70_k3wXJHnrbYK9h1uBwBUgNCzc5_24r73e1xETG0ug?download=1' to file '/root/.cache/pooch/eeebeae5c5966a8643cbec3a97f28bca-Efe70_k3wXJHnrbYK9h1uBwBUgNCzc5_24r73e1xETG0ug'.\n",
            "SHA256 hash of downloaded file: ed7070a75e387b8a58b6aaea243f0bb48c9c7722c65c694c11f62bad24c2ebc1\n",
            "Use this value as the 'known_hash' argument of 'pooch.retrieve' to ensure that the file hasn't changed if it is downloaded again in the future.\n"
          ]
        },
        {
          "output_type": "execute_result",
          "data": {
            "text/plain": [
              "dict_keys(['Batt', 'Ptemp', 'AirTC', 'RH', 'Slrw', 'Slrm', 'WS', 'WindDir', 'Rain', 'BP', 'WindGust', 'time_qual', 'Batt_qual', 'Ptemp_qual', 'AirTC_qual', 'RH_qual', 'Slrw_qual', 'Slrm_qual', 'WS_qual', 'WindDir_qual', 'Rain_qual', 'BP_qual', 'WindGust_qual', 'time'])"
            ]
          },
          "metadata": {},
          "execution_count": 7
        }
      ]
    },
    {
      "cell_type": "code",
      "source": [],
      "metadata": {
        "id": "MvaedTkkQQUR",
        "colab": {
          "base_uri": "https://localhost:8080/",
          "height": 180
        },
        "outputId": "66cef490-b9c3-4999-ce89-d8f5ef501591"
      },
      "execution_count": null,
      "outputs": [
        {
          "output_type": "error",
          "ename": "KeyError",
          "evalue": "'surfacetemp'",
          "traceback": [
            "\u001b[0;31m---------------------------------------------------------------------------\u001b[0m",
            "\u001b[0;31mKeyError\u001b[0m                                  Traceback (most recent call last)",
            "\u001b[0;32m<ipython-input-8-b3f6da8fd292>\u001b[0m in \u001b[0;36m<cell line: 1>\u001b[0;34m()\u001b[0m\n\u001b[0;32m----> 1\u001b[0;31m \u001b[0msurface_temp\u001b[0m\u001b[0;34m=\u001b[0m\u001b[0mdata\u001b[0m\u001b[0;34m.\u001b[0m\u001b[0mvariables\u001b[0m\u001b[0;34m[\u001b[0m\u001b[0;34m\"surfacetemp\"\u001b[0m\u001b[0;34m]\u001b[0m\u001b[0;34m[\u001b[0m\u001b[0;34m:\u001b[0m\u001b[0;34m]\u001b[0m\u001b[0;34m\u001b[0m\u001b[0;34m\u001b[0m\u001b[0m\n\u001b[0m\u001b[1;32m      2\u001b[0m \u001b[0mtime\u001b[0m\u001b[0;34m=\u001b[0m\u001b[0mdata\u001b[0m\u001b[0;34m.\u001b[0m\u001b[0mvariables\u001b[0m\u001b[0;34m[\u001b[0m\u001b[0;34m\"time\"\u001b[0m\u001b[0;34m]\u001b[0m\u001b[0;34m[\u001b[0m\u001b[0;34m:\u001b[0m\u001b[0;34m]\u001b[0m\u001b[0;34m/\u001b[0m\u001b[0;36m86400\u001b[0m\u001b[0;34m-\u001b[0m\u001b[0;36m18077.916666666668\u001b[0m \u001b[0;31m# bring the time to be 0 on the 1st of january 2020\u001b[0m\u001b[0;34m\u001b[0m\u001b[0;34m\u001b[0m\u001b[0m\n\u001b[1;32m      3\u001b[0m \u001b[0mtemp_air\u001b[0m\u001b[0;34m=\u001b[0m\u001b[0mdata\u001b[0m\u001b[0;34m.\u001b[0m\u001b[0mvariables\u001b[0m\u001b[0;34m[\u001b[0m\u001b[0;34m\"temp\"\u001b[0m\u001b[0;34m]\u001b[0m\u001b[0;34m[\u001b[0m\u001b[0;34m:\u001b[0m\u001b[0;34m]\u001b[0m\u001b[0;34m\u001b[0m\u001b[0;34m\u001b[0m\u001b[0m\n",
            "\u001b[0;31mKeyError\u001b[0m: 'surfacetemp'"
          ]
        }
      ]
    },
    {
      "cell_type": "code",
      "source": [
        "# Loop through each NetCDF file in the directory\n",
        "for filename in os.listdir(data):\n",
        "    if filename.endswith('.nc'):\n",
        "        file_path = os.path.join(data, filename)\n",
        "\n",
        "        # Open the NetCDF file\n",
        "        with Dataset(file_path, 'r') as nc_file:\n",
        "            # Extract variables\n",
        "            unix_time = nc_file.variables['time'][:]\n",
        "            air_temp = nc_file.variables['AirTC'][:]\n",
        "            solar_radiation = nc_file.variables['Slrw'][:]\n",
        "            wind_speed = nc_file.variables['WS'][:]\n",
        "\n",
        "            # Convert Unix time to datetime\n",
        "            datetime_times = [datetime.utcfromtimestamp(t) for t in unix_time]\n",
        "\n",
        "            # Combine into a structured array and append to list\n",
        "            file_data = np.array(list(zip(datetime_times, air_temp, solar_radiation, wind_speed)),\n",
        "                                 dtype=[('time', 'O'), ('AirTC', 'f4'), ('SlrW', 'f4'), ('WS', 'f4')])\n",
        "            data_list.append(file_data)\n",
        "\n",
        "# Combine all data into a single NumPy array\n",
        "meteo = np.concatenate(data_list)\n",
        "\n",
        "# Verify contents\n",
        "print(meteo[:5])  # Display the first 5 records"
      ],
      "metadata": {
        "id": "XK-Y9fJ6f77D"
      },
      "execution_count": null,
      "outputs": []
    },
    {
      "cell_type": "code",
      "source": [],
      "metadata": {
        "id": "9J26a54zslMJ"
      },
      "execution_count": null,
      "outputs": []
    },
    {
      "cell_type": "code",
      "source": [],
      "metadata": {
        "id": "m2aU4j_JslJi"
      },
      "execution_count": null,
      "outputs": []
    },
    {
      "cell_type": "code",
      "source": [],
      "metadata": {
        "id": "Z6f9hQxtslG6"
      },
      "execution_count": null,
      "outputs": []
    },
    {
      "cell_type": "code",
      "source": [],
      "metadata": {
        "id": "Xs5oQj3Jsk9g"
      },
      "execution_count": null,
      "outputs": []
    },
    {
      "cell_type": "code",
      "source": [
        "surface_temp=data.variables[\"surfacetemp\"][:]\n",
        "time=data.variables[\"time\"][:]/86400-18077.916666666668 # bring the time to be 0 on the 1st of january 2020\n",
        "temp_air=data.variables[\"temp\"][:]"
      ],
      "metadata": {
        "id": "29WJnsX4sk6N"
      },
      "execution_count": null,
      "outputs": []
    },
    {
      "cell_type": "code",
      "source": [],
      "metadata": {
        "id": "86jwLqcrsk0Z"
      },
      "execution_count": null,
      "outputs": []
    },
    {
      "cell_type": "code",
      "source": [],
      "metadata": {
        "id": "Pp4etjpqskrD"
      },
      "execution_count": null,
      "outputs": []
    }
  ]
}